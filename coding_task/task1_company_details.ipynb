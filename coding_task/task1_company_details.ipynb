{
 "cells": [
  {
   "cell_type": "code",
   "execution_count": 157,
   "metadata": {
    "collapsed": false
   },
   "outputs": [],
   "source": [
    "import re\n",
    "import urllib.request as urllib2\n"
   ]
  },
  {
   "cell_type": "code",
   "execution_count": 158,
   "metadata": {
    "collapsed": false
   },
   "outputs": [
    {
     "name": "stdout",
     "output_type": "stream",
     "text": [
      "Asian Paints Ltd\n"
     ]
    }
   ],
   "source": [
    "from bs4 import BeautifulSoup\n",
    "url = 'https://www.fundoodata.com/companies-detail/Asian-Paints-Ltd/18943.html'\n",
    "htmlfile = urllib2.urlopen(url)\n",
    "\n",
    "soup = BeautifulSoup(htmlfile, 'html.parser')\n",
    "comp_name_box = soup.find('div', attrs={'class':'search-page-heading-red'})\n",
    "comp_name = comp_name_box.text.strip()\n",
    "print(comp_name)"
   ]
  },
  {
   "cell_type": "code",
   "execution_count": 159,
   "metadata": {
    "collapsed": false
   },
   "outputs": [
    {
     "name": "stdout",
     "output_type": "stream",
     "text": [
      "(022) 62181000\n",
      " www.asianpaints.com\n"
     ]
    }
   ],
   "source": [
    "comp_add_box = soup.find('div', attrs={'class':'detail-line'})\n",
    "comp_add = comp_add_box.text.strip()\n",
    "print(comp_add)"
   ]
  },
  {
   "cell_type": "code",
   "execution_count": 160,
   "metadata": {
    "collapsed": false
   },
   "outputs": [
    {
     "data": {
      "text/plain": [
       "'(022) 62181000\\n www.asianpaints.com'"
      ]
     },
     "execution_count": 160,
     "metadata": {},
     "output_type": "execute_result"
    }
   ],
   "source": [
    "comp_add"
   ]
  },
  {
   "cell_type": "code",
   "execution_count": 161,
   "metadata": {
    "collapsed": false
   },
   "outputs": [
    {
     "name": "stdout",
     "output_type": "stream",
     "text": [
      "Industry\n",
      "Chemical\n"
     ]
    }
   ],
   "source": [
    "comp_type_box = soup.find('div', attrs={'class':'overview-box2'})\n",
    "comp_type = comp_type_box.text.strip()\n",
    "print(comp_type)"
   ]
  },
  {
   "cell_type": "markdown",
   "metadata": {},
   "source": [
    "### Company Details"
   ]
  },
  {
   "cell_type": "code",
   "execution_count": 162,
   "metadata": {
    "collapsed": false
   },
   "outputs": [
    {
     "name": "stdout",
     "output_type": "stream",
     "text": [
      "5\n"
     ]
    }
   ],
   "source": [
    "comp_box = soup.find_all('div', attrs={'class':'overview-box2'})\n",
    "print(len(comp_box))"
   ]
  },
  {
   "cell_type": "code",
   "execution_count": 163,
   "metadata": {
    "collapsed": false
   },
   "outputs": [
    {
     "name": "stdout",
     "output_type": "stream",
     "text": [
      "Industry\n",
      "Chemical\n",
      "Company Type\n",
      "India's Top 500\n",
      "Sector\n",
      "Private Sector\n",
      "Est. No. of Emp.\n",
      "Available\n",
      "Est. Total Turnover \n",
      "Available\n"
     ]
    }
   ],
   "source": [
    "for c in comp_box:\n",
    "    print(c.text.strip())"
   ]
  },
  {
   "cell_type": "code",
   "execution_count": 164,
   "metadata": {
    "collapsed": false
   },
   "outputs": [],
   "source": [
    "useful_comp_box = comp_box[:-2]"
   ]
  },
  {
   "cell_type": "code",
   "execution_count": 165,
   "metadata": {
    "collapsed": false
   },
   "outputs": [],
   "source": [
    "cb = []\n",
    "for u in useful_comp_box:\n",
    "    cb.append(u.text.strip())"
   ]
  },
  {
   "cell_type": "code",
   "execution_count": 166,
   "metadata": {
    "collapsed": false
   },
   "outputs": [
    {
     "data": {
      "text/plain": [
       "['Industry\\nChemical',\n",
       " \"Company Type\\nIndia's Top 500\",\n",
       " 'Sector\\nPrivate Sector']"
      ]
     },
     "execution_count": 166,
     "metadata": {},
     "output_type": "execute_result"
    }
   ],
   "source": [
    "cb"
   ]
  },
  {
   "cell_type": "code",
   "execution_count": 167,
   "metadata": {
    "collapsed": false
   },
   "outputs": [],
   "source": [
    "comp_dict = {\n",
    "    'Industry': cb[0][9:],\n",
    "    'Company Type': cb[1][13:],\n",
    "    'Sector': cb[2][7:]\n",
    "    }"
   ]
  },
  {
   "cell_type": "code",
   "execution_count": 168,
   "metadata": {
    "collapsed": false
   },
   "outputs": [
    {
     "data": {
      "text/plain": [
       "{'Company Type': \"India's Top 500\",\n",
       " 'Industry': 'Chemical',\n",
       " 'Sector': 'Private Sector'}"
      ]
     },
     "execution_count": 168,
     "metadata": {},
     "output_type": "execute_result"
    }
   ],
   "source": [
    "comp_dict"
   ]
  },
  {
   "cell_type": "markdown",
   "metadata": {},
   "source": [
    "### Contact Details"
   ]
  },
  {
   "cell_type": "code",
   "execution_count": 195,
   "metadata": {
    "collapsed": false
   },
   "outputs": [
    {
     "name": "stdout",
     "output_type": "stream",
     "text": [
      "(022) 62181000\n",
      " www.asianpaints.com\n"
     ]
    }
   ],
   "source": [
    "comp_contact_box = soup.find('div', attrs={'class':'detail-line'})\n",
    "comp_contact = comp_contact_box.text.strip()\n",
    "print(comp_contact)"
   ]
  },
  {
   "cell_type": "code",
   "execution_count": 171,
   "metadata": {
    "collapsed": false
   },
   "outputs": [
    {
     "data": {
      "text/plain": [
       "'(022) 62181000\\n www.asianpaints.com'"
      ]
     },
     "execution_count": 171,
     "metadata": {},
     "output_type": "execute_result"
    }
   ],
   "source": [
    "comp_contact"
   ]
  },
  {
   "cell_type": "code",
   "execution_count": 172,
   "metadata": {
    "collapsed": false
   },
   "outputs": [],
   "source": [
    "nl_pos = comp_contact.index('\\n')\n",
    "contact_dict = {\n",
    "    'Phone': comp_contact[:(nl_pos-1)],\n",
    "    'Website': comp_contact[(nl_pos+2):]\n",
    "    }"
   ]
  },
  {
   "cell_type": "code",
   "execution_count": 173,
   "metadata": {
    "collapsed": false
   },
   "outputs": [
    {
     "data": {
      "text/plain": [
       "{'Phone': '(022) 6218100', 'Website': 'www.asianpaints.com'}"
      ]
     },
     "execution_count": 173,
     "metadata": {},
     "output_type": "execute_result"
    }
   ],
   "source": [
    "contact_dict"
   ]
  },
  {
   "cell_type": "markdown",
   "metadata": {},
   "source": [
    "### Company Address"
   ]
  },
  {
   "cell_type": "code",
   "execution_count": 174,
   "metadata": {
    "collapsed": false
   },
   "outputs": [
    {
     "name": "stdout",
     "output_type": "stream",
     "text": [
      "[('6 A Shantinagar Estate,\\t\\t\\t\\t  \\t\\t\\t\\t  Vakola Pipeline Road,Santacruz(E)', 'Mumbai\\t                Maharashtra , 400055\\t')]\n"
     ]
    }
   ],
   "source": [
    "regex = '<font style=\"color:#c00508\">Address</font>\\s*-\\s*(.*)<br\\s*[/,.]*>\\n*\\s*.*;(.*)<div'\n",
    "pattern = re.compile(regex)\n",
    "url = 'https://www.fundoodata.com/companies-detail/Asian-Paints-Ltd/18943.html'\n",
    "html_file = urllib2.urlopen(url)\n",
    "html_text = html_file.read()\n",
    "matches = re.findall(pattern, html_text.decode('utf-8'))\n",
    "print(matches)"
   ]
  },
  {
   "cell_type": "code",
   "execution_count": 175,
   "metadata": {
    "collapsed": false
   },
   "outputs": [
    {
     "data": {
      "text/plain": [
       "[('6 A Shantinagar Estate,\\t\\t\\t\\t  \\t\\t\\t\\t  Vakola Pipeline Road,Santacruz(E)',\n",
       "  'Mumbai\\t                Maharashtra , 400055\\t')]"
      ]
     },
     "execution_count": 175,
     "metadata": {},
     "output_type": "execute_result"
    }
   ],
   "source": [
    "matches"
   ]
  },
  {
   "cell_type": "code",
   "execution_count": 176,
   "metadata": {
    "collapsed": false
   },
   "outputs": [],
   "source": [
    "line1 = matches[0][0].split(',')"
   ]
  },
  {
   "cell_type": "code",
   "execution_count": 177,
   "metadata": {
    "collapsed": false
   },
   "outputs": [
    {
     "data": {
      "text/plain": [
       "['6 A Shantinagar Estate',\n",
       " '\\t\\t\\t\\t  \\t\\t\\t\\t  Vakola Pipeline Road',\n",
       " 'Santacruz(E)']"
      ]
     },
     "execution_count": 177,
     "metadata": {},
     "output_type": "execute_result"
    }
   ],
   "source": [
    "line1"
   ]
  },
  {
   "cell_type": "code",
   "execution_count": 178,
   "metadata": {
    "collapsed": false
   },
   "outputs": [],
   "source": [
    "local_add = ''\n",
    "for i in range(len(line1)):\n",
    "    line1[i] = line1[i].strip()\n",
    "    local_add += line1[i]+\", \""
   ]
  },
  {
   "cell_type": "code",
   "execution_count": 179,
   "metadata": {
    "collapsed": false
   },
   "outputs": [
    {
     "data": {
      "text/plain": [
       "['6 A Shantinagar Estate', 'Vakola Pipeline Road', 'Santacruz(E)']"
      ]
     },
     "execution_count": 179,
     "metadata": {},
     "output_type": "execute_result"
    }
   ],
   "source": [
    "line1"
   ]
  },
  {
   "cell_type": "code",
   "execution_count": 180,
   "metadata": {
    "collapsed": false
   },
   "outputs": [
    {
     "data": {
      "text/plain": [
       "'6 A Shantinagar Estate, Vakola Pipeline Road, Santacruz(E), '"
      ]
     },
     "execution_count": 180,
     "metadata": {},
     "output_type": "execute_result"
    }
   ],
   "source": [
    "local_add"
   ]
  },
  {
   "cell_type": "code",
   "execution_count": 181,
   "metadata": {
    "collapsed": false
   },
   "outputs": [
    {
     "name": "stdout",
     "output_type": "stream",
     "text": [
      "6 A Shantinagar Estate, Vakola Pipeline Road, Santacruz(E)\n"
     ]
    }
   ],
   "source": [
    "local_add = local_add[:len(local_add)-2]\n",
    "print(local_add)"
   ]
  },
  {
   "cell_type": "code",
   "execution_count": 182,
   "metadata": {
    "collapsed": true
   },
   "outputs": [],
   "source": [
    "line2 = matches[0][1].split(',')"
   ]
  },
  {
   "cell_type": "code",
   "execution_count": 183,
   "metadata": {
    "collapsed": false
   },
   "outputs": [
    {
     "data": {
      "text/plain": [
       "['Mumbai\\t                Maharashtra ', ' 400055\\t']"
      ]
     },
     "execution_count": 183,
     "metadata": {},
     "output_type": "execute_result"
    }
   ],
   "source": [
    "line2"
   ]
  },
  {
   "cell_type": "code",
   "execution_count": 184,
   "metadata": {
    "collapsed": false
   },
   "outputs": [
    {
     "data": {
      "text/plain": [
       "'Mumbai\\t                Maharashtra'"
      ]
     },
     "execution_count": 184,
     "metadata": {},
     "output_type": "execute_result"
    }
   ],
   "source": [
    "line2[0].strip()"
   ]
  },
  {
   "cell_type": "code",
   "execution_count": 196,
   "metadata": {
    "collapsed": false
   },
   "outputs": [],
   "source": [
    "i2 = line2[0].index('\\t')\n",
    "comp_address = {\n",
    "    'City': line2[0][:i2],\n",
    "    'State': line2[0][(i2+17):],\n",
    "    'Pin': line2[1].strip(),\n",
    "    'Address': local_add\n",
    "    }"
   ]
  },
  {
   "cell_type": "code",
   "execution_count": 197,
   "metadata": {
    "collapsed": false
   },
   "outputs": [
    {
     "data": {
      "text/plain": [
       "{'Address': '6 A Shantinagar Estate, Vakola Pipeline Road, Santacruz(E)',\n",
       " 'City': 'Mumbai',\n",
       " 'Pin': '400055',\n",
       " 'State': 'Maharashtra '}"
      ]
     },
     "execution_count": 197,
     "metadata": {},
     "output_type": "execute_result"
    }
   ],
   "source": [
    "comp_address"
   ]
  },
  {
   "cell_type": "markdown",
   "metadata": {},
   "source": [
    "### Finally"
   ]
  },
  {
   "cell_type": "code",
   "execution_count": 198,
   "metadata": {
    "collapsed": true
   },
   "outputs": [],
   "source": [
    "company_details = {\n",
    "    'Name': comp_name\n",
    "}"
   ]
  },
  {
   "cell_type": "code",
   "execution_count": 199,
   "metadata": {
    "collapsed": false
   },
   "outputs": [
    {
     "data": {
      "text/plain": [
       "{'Name': 'Asian Paints Ltd'}"
      ]
     },
     "execution_count": 199,
     "metadata": {},
     "output_type": "execute_result"
    }
   ],
   "source": [
    "company_details"
   ]
  },
  {
   "cell_type": "code",
   "execution_count": 200,
   "metadata": {
    "collapsed": false
   },
   "outputs": [],
   "source": [
    "company_details = {**company_details, **comp_address, **comp_dict, **contact_dict}"
   ]
  },
  {
   "cell_type": "code",
   "execution_count": 201,
   "metadata": {
    "collapsed": false
   },
   "outputs": [
    {
     "data": {
      "text/plain": [
       "{'Address': '6 A Shantinagar Estate, Vakola Pipeline Road, Santacruz(E)',\n",
       " 'City': 'Mumbai',\n",
       " 'Company Type': \"India's Top 500\",\n",
       " 'Industry': 'Chemical',\n",
       " 'Name': 'Asian Paints Ltd',\n",
       " 'Phone': '(022) 6218100',\n",
       " 'Pin': '400055',\n",
       " 'Sector': 'Private Sector',\n",
       " 'State': 'Maharashtra ',\n",
       " 'Website': 'www.asianpaints.com'}"
      ]
     },
     "execution_count": 201,
     "metadata": {},
     "output_type": "execute_result"
    }
   ],
   "source": [
    "company_details"
   ]
  },
  {
   "cell_type": "code",
   "execution_count": null,
   "metadata": {
    "collapsed": true
   },
   "outputs": [],
   "source": [
    "### "
   ]
  }
 ],
 "metadata": {
  "anaconda-cloud": {},
  "kernelspec": {
   "display_name": "Python [default]",
   "language": "python",
   "name": "python3"
  },
  "language_info": {
   "codemirror_mode": {
    "name": "ipython",
    "version": 3
   },
   "file_extension": ".py",
   "mimetype": "text/x-python",
   "name": "python",
   "nbconvert_exporter": "python",
   "pygments_lexer": "ipython3",
   "version": "3.5.2"
  }
 },
 "nbformat": 4,
 "nbformat_minor": 1
}
