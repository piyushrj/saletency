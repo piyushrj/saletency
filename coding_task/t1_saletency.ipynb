{
 "cells": [
  {
   "cell_type": "markdown",
   "metadata": {},
   "source": [
    "## Importing the necessory libraries"
   ]
  },
  {
   "cell_type": "code",
   "execution_count": 1,
   "metadata": {
    "collapsed": true
   },
   "outputs": [],
   "source": [
    "import re\n",
    "import urllib.request as urllib2\n",
    "from bs4 import BeautifulSoup"
   ]
  },
  {
   "cell_type": "markdown",
   "metadata": {},
   "source": [
    "### Parsing the html "
   ]
  },
  {
   "cell_type": "code",
   "execution_count": 2,
   "metadata": {
    "collapsed": true
   },
   "outputs": [],
   "source": [
    "url = 'https://www.fundoodata.com/companies-detail/Asian-Paints-Ltd/18943.html'\n",
    "htmlfile = urllib2.urlopen(url)\n",
    "soup = BeautifulSoup(htmlfile, 'html.parser')"
   ]
  },
  {
   "cell_type": "markdown",
   "metadata": {},
   "source": [
    "### Company Name"
   ]
  },
  {
   "cell_type": "code",
   "execution_count": 3,
   "metadata": {
    "collapsed": false
   },
   "outputs": [
    {
     "name": "stdout",
     "output_type": "stream",
     "text": [
      "Asian Paints Ltd\n"
     ]
    }
   ],
   "source": [
    "comp_name_box = soup.find('div', attrs={'class':'search-page-heading-red'})\n",
    "comp_name = comp_name_box.text.strip()\n",
    "print(comp_name) # dont include in final .py file"
   ]
  },
  {
   "cell_type": "markdown",
   "metadata": {},
   "source": [
    "### Company type"
   ]
  },
  {
   "cell_type": "code",
   "execution_count": 4,
   "metadata": {
    "collapsed": true
   },
   "outputs": [],
   "source": [
    "comp_box = soup.find_all('div', attrs={'class':'overview-box2'})\n",
    "useful_comp_box = comp_box[:-2]\n",
    "\n",
    "cb = []\n",
    "for u in useful_comp_box:\n",
    "    cb.append(u.text.strip())\n"
   ]
  },
  {
   "cell_type": "code",
   "execution_count": 9,
   "metadata": {
    "collapsed": false
   },
   "outputs": [
    {
     "data": {
      "text/plain": [
       "['Industry\\nChemical',\n",
       " \"Company Type\\nIndia's Top 500\",\n",
       " 'Sector\\nPrivate Sector']"
      ]
     },
     "execution_count": 9,
     "metadata": {},
     "output_type": "execute_result"
    }
   ],
   "source": [
    "cb # dont include in final .py file"
   ]
  },
  {
   "cell_type": "code",
   "execution_count": 6,
   "metadata": {
    "collapsed": true
   },
   "outputs": [],
   "source": [
    "comp_dict = {\n",
    "    'Industry': cb[0][9:],\n",
    "    'Company Type': cb[1][13:],\n",
    "    'Sector': cb[2][7:]\n",
    "    }"
   ]
  },
  {
   "cell_type": "code",
   "execution_count": 8,
   "metadata": {
    "collapsed": false
   },
   "outputs": [
    {
     "data": {
      "text/plain": [
       "{'Company Type': \"India's Top 500\",\n",
       " 'Industry': 'Chemical',\n",
       " 'Sector': 'Private Sector'}"
      ]
     },
     "execution_count": 8,
     "metadata": {},
     "output_type": "execute_result"
    }
   ],
   "source": [
    "comp_dict # dont include in final .py file"
   ]
  },
  {
   "cell_type": "markdown",
   "metadata": {},
   "source": [
    "### Contact Details"
   ]
  },
  {
   "cell_type": "code",
   "execution_count": 11,
   "metadata": {
    "collapsed": false
   },
   "outputs": [],
   "source": [
    "comp_contact_box = soup.find('div', attrs={'class':'detail-line'})\n",
    "comp_contact = comp_contact_box.text.strip()"
   ]
  },
  {
   "cell_type": "code",
   "execution_count": 13,
   "metadata": {
    "collapsed": false
   },
   "outputs": [
    {
     "data": {
      "text/plain": [
       "'(022) 62181000\\n www.asianpaints.com'"
      ]
     },
     "execution_count": 13,
     "metadata": {},
     "output_type": "execute_result"
    }
   ],
   "source": [
    "comp_contact # do not include in final .py file"
   ]
  },
  {
   "cell_type": "code",
   "execution_count": 14,
   "metadata": {
    "collapsed": true
   },
   "outputs": [],
   "source": [
    "nl_pos = comp_contact.index('\\n')\n",
    "contact_dict = {\n",
    "    'Phone': comp_contact[:(nl_pos-1)],\n",
    "    'Website': comp_contact[(nl_pos+2):]\n",
    "    }"
   ]
  },
  {
   "cell_type": "code",
   "execution_count": 15,
   "metadata": {
    "collapsed": false
   },
   "outputs": [
    {
     "data": {
      "text/plain": [
       "{'Phone': '(022) 6218100', 'Website': 'www.asianpaints.com'}"
      ]
     },
     "execution_count": 15,
     "metadata": {},
     "output_type": "execute_result"
    }
   ],
   "source": [
    "contact_dict #dont include in final py file"
   ]
  },
  {
   "cell_type": "markdown",
   "metadata": {},
   "source": [
    "### Company Address"
   ]
  },
  {
   "cell_type": "code",
   "execution_count": 17,
   "metadata": {
    "collapsed": false
   },
   "outputs": [
    {
     "name": "stdout",
     "output_type": "stream",
     "text": [
      "[('6 A Shantinagar Estate,\\t\\t\\t\\t  \\t\\t\\t\\t  Vakola Pipeline Road,Santacruz(E)', 'Mumbai\\t                Maharashtra , 400055\\t')]\n"
     ]
    }
   ],
   "source": [
    "regex = '<font style=\"color:#c00508\">Address</font>\\s*-\\s*(.*)<br\\s*[/,.]*>\\n*\\s*.*;(.*)<div'\n",
    "pattern = re.compile(regex)\n",
    "html_file = urllib2.urlopen(url)\n",
    "html_text = html_file.read()\n",
    "matches = re.findall(pattern, html_text.decode('utf-8'))\n",
    "print(matches) # do not include in final .py file"
   ]
  },
  {
   "cell_type": "code",
   "execution_count": 18,
   "metadata": {
    "collapsed": true
   },
   "outputs": [],
   "source": [
    "line1 = matches[0][0].split(',')"
   ]
  },
  {
   "cell_type": "code",
   "execution_count": 19,
   "metadata": {
    "collapsed": false
   },
   "outputs": [
    {
     "data": {
      "text/plain": [
       "['6 A Shantinagar Estate',\n",
       " '\\t\\t\\t\\t  \\t\\t\\t\\t  Vakola Pipeline Road',\n",
       " 'Santacruz(E)']"
      ]
     },
     "execution_count": 19,
     "metadata": {},
     "output_type": "execute_result"
    }
   ],
   "source": [
    "line1 # do not include in final .py file"
   ]
  },
  {
   "cell_type": "code",
   "execution_count": 20,
   "metadata": {
    "collapsed": true
   },
   "outputs": [],
   "source": [
    "local_add = ''\n",
    "for i in range(len(line1)):\n",
    "    line1[i] = line1[i].strip()\n",
    "    local_add += line1[i]+\", \""
   ]
  },
  {
   "cell_type": "code",
   "execution_count": 21,
   "metadata": {
    "collapsed": false
   },
   "outputs": [
    {
     "data": {
      "text/plain": [
       "['6 A Shantinagar Estate', 'Vakola Pipeline Road', 'Santacruz(E)']"
      ]
     },
     "execution_count": 21,
     "metadata": {},
     "output_type": "execute_result"
    }
   ],
   "source": [
    "line1 # do not include in final .py file"
   ]
  },
  {
   "cell_type": "code",
   "execution_count": 22,
   "metadata": {
    "collapsed": false
   },
   "outputs": [
    {
     "data": {
      "text/plain": [
       "'6 A Shantinagar Estate, Vakola Pipeline Road, Santacruz(E), '"
      ]
     },
     "execution_count": 22,
     "metadata": {},
     "output_type": "execute_result"
    }
   ],
   "source": [
    "local_add # do not"
   ]
  },
  {
   "cell_type": "code",
   "execution_count": 23,
   "metadata": {
    "collapsed": true
   },
   "outputs": [],
   "source": [
    "local_add = local_add[:len(local_add)-2]"
   ]
  },
  {
   "cell_type": "code",
   "execution_count": 24,
   "metadata": {
    "collapsed": false
   },
   "outputs": [
    {
     "data": {
      "text/plain": [
       "'6 A Shantinagar Estate, Vakola Pipeline Road, Santacruz(E)'"
      ]
     },
     "execution_count": 24,
     "metadata": {},
     "output_type": "execute_result"
    }
   ],
   "source": [
    "local_add # do not"
   ]
  },
  {
   "cell_type": "code",
   "execution_count": 25,
   "metadata": {
    "collapsed": true
   },
   "outputs": [],
   "source": [
    "line2 = matches[0][1].split(',')"
   ]
  },
  {
   "cell_type": "code",
   "execution_count": 26,
   "metadata": {
    "collapsed": false
   },
   "outputs": [
    {
     "data": {
      "text/plain": [
       "['Mumbai\\t                Maharashtra ', ' 400055\\t']"
      ]
     },
     "execution_count": 26,
     "metadata": {},
     "output_type": "execute_result"
    }
   ],
   "source": [
    "line2 # do not"
   ]
  },
  {
   "cell_type": "code",
   "execution_count": 32,
   "metadata": {
    "collapsed": true
   },
   "outputs": [],
   "source": [
    "i2 = line2[0].index('\\t')\n",
    "comp_address = {\n",
    "    'City': line2[0][:i2],\n",
    "    'State': line2[0][(i2+17):],\n",
    "    'Pin': line2[1].strip(),\n",
    "    'Address': local_add\n",
    "    }"
   ]
  },
  {
   "cell_type": "code",
   "execution_count": 33,
   "metadata": {
    "collapsed": false
   },
   "outputs": [
    {
     "data": {
      "text/plain": [
       "{'Address': '6 A Shantinagar Estate, Vakola Pipeline Road, Santacruz(E)',\n",
       " 'City': 'Mumbai',\n",
       " 'Pin': '400055',\n",
       " 'State': 'Maharashtra '}"
      ]
     },
     "execution_count": 33,
     "metadata": {},
     "output_type": "execute_result"
    }
   ],
   "source": [
    "comp_address # do not"
   ]
  },
  {
   "cell_type": "markdown",
   "metadata": {},
   "source": [
    "### Concatenating the details into a single dictionary"
   ]
  },
  {
   "cell_type": "code",
   "execution_count": 34,
   "metadata": {
    "collapsed": true
   },
   "outputs": [],
   "source": [
    "company_details = {\n",
    "    'Name': comp_name\n",
    "}\n",
    "company_details = {**company_details, **comp_address, **comp_dict, **contact_dict}"
   ]
  },
  {
   "cell_type": "code",
   "execution_count": 35,
   "metadata": {
    "collapsed": false
   },
   "outputs": [
    {
     "data": {
      "text/plain": [
       "{'Address': '6 A Shantinagar Estate, Vakola Pipeline Road, Santacruz(E)',\n",
       " 'City': 'Mumbai',\n",
       " 'Company Type': \"India's Top 500\",\n",
       " 'Industry': 'Chemical',\n",
       " 'Name': 'Asian Paints Ltd',\n",
       " 'Phone': '(022) 6218100',\n",
       " 'Pin': '400055',\n",
       " 'Sector': 'Private Sector',\n",
       " 'State': 'Maharashtra ',\n",
       " 'Website': 'www.asianpaints.com'}"
      ]
     },
     "execution_count": 35,
     "metadata": {},
     "output_type": "execute_result"
    }
   ],
   "source": [
    "company_details # do not"
   ]
  },
  {
   "cell_type": "markdown",
   "metadata": {},
   "source": [
    "### Exporting the company details to a text file"
   ]
  },
  {
   "cell_type": "code",
   "execution_count": 42,
   "metadata": {
    "collapsed": true
   },
   "outputs": [],
   "source": [
    "f = open(\"Company_data.txt\",\"w\")\n",
    "f.write( str(company_details) )\n",
    "f.close()"
   ]
  }
 ],
 "metadata": {
  "kernelspec": {
   "display_name": "Python [conda root]",
   "language": "python",
   "name": "conda-root-py"
  },
  "language_info": {
   "codemirror_mode": {
    "name": "ipython",
    "version": 3
   },
   "file_extension": ".py",
   "mimetype": "text/x-python",
   "name": "python",
   "nbconvert_exporter": "python",
   "pygments_lexer": "ipython3",
   "version": "3.5.2"
  }
 },
 "nbformat": 4,
 "nbformat_minor": 1
}
