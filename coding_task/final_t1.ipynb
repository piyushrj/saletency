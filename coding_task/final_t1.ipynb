{
 "cells": [
  {
   "cell_type": "code",
   "execution_count": 5,
   "metadata": {
    "collapsed": true
   },
   "outputs": [],
   "source": [
    "# importing necessory libraries\n",
    "import re\n",
    "import urllib.request as urllib2\n",
    "from bs4 import BeautifulSoup\n",
    "# parsing the html\n",
    "url = 'https://www.fundoodata.com/companies-detail/BASF-India-Ltd/4899.html' #url of the webpage to scrape\n",
    "htmlfile = urllib2.urlopen(url)\n",
    "soup = BeautifulSoup(htmlfile, 'html.parser')\n",
    "# company name\n",
    "comp_name_box = soup.find('div', attrs={'class':'search-page-heading-red'})\n",
    "comp_name = comp_name_box.text.strip()\n",
    "# company type details\n",
    "comp_box = soup.find_all('div', attrs={'class':'overview-box2'})\n",
    "useful_comp_box = comp_box[:-2]\n",
    "\n",
    "cb = []\n",
    "for u in useful_comp_box:\n",
    "    cb.append(u.text.strip())\n",
    "comp_dict = {\n",
    "    'Industry': cb[0][9:],\n",
    "    'Company Type': cb[1][13:],\n",
    "    'Sector': cb[2][7:]\n",
    "    }\n",
    "#company contact details\n",
    "comp_contact_box = soup.find('div', attrs={'class':'detail-line'})\n",
    "comp_contact = comp_contact_box.text.strip()\n",
    "nl_pos = comp_contact.index('\\n')\n",
    "contact_dict = {\n",
    "    'Phone': comp_contact[:(nl_pos-1)],\n",
    "    'Website': comp_contact[(nl_pos+2):]\n",
    "    }\n",
    "#company address\n",
    "regex = '<font style=\"color:#c00508\">Address</font>\\s*-\\s*(.*)<br\\s*[/,.]*>\\n*\\s*.*;(.*)<div'\n",
    "pattern = re.compile(regex)\n",
    "html_file = urllib2.urlopen(url)\n",
    "html_text = html_file.read()\n",
    "matches = re.findall(pattern, html_text.decode('utf-8'))\n",
    "\n",
    "line1 = matches[0][0].split(',')\n",
    "local_add = ''\n",
    "for i in range(len(line1)):\n",
    "    line1[i] = line1[i].strip()\n",
    "    local_add += line1[i]+\", \"\n",
    "local_add = local_add[:len(local_add)-2]\n",
    "\n",
    "line2 = matches[0][1].split(',')\n",
    "i2 = line2[0].index('\\t')\n",
    "comp_address = {\n",
    "    'City': line2[0][:i2],\n",
    "    'State': line2[0][(i2+17):],\n",
    "    'Pin': line2[1].strip(),\n",
    "    'Address': local_add\n",
    "    }\n",
    "# Concatenating the details into a single dictionary\n",
    "company_details = {\n",
    "    'Name': comp_name\n",
    "}\n",
    "company_details = {**company_details, **comp_address, **comp_dict, **contact_dict}\n",
    "\n",
    "#Exporting the company details to a text file\n",
    "f = open(\"Company_data.txt\",\"w\") # change the name of the output file here accordingly\n",
    "f.write( str(company_details) )\n",
    "f.close()\n",
    "\n"
   ]
  },
  {
   "cell_type": "code",
   "execution_count": null,
   "metadata": {
    "collapsed": true
   },
   "outputs": [],
   "source": []
  }
 ],
 "metadata": {
  "kernelspec": {
   "display_name": "Python [default]",
   "language": "python",
   "name": "python3"
  },
  "language_info": {
   "codemirror_mode": {
    "name": "ipython",
    "version": 3
   },
   "file_extension": ".py",
   "mimetype": "text/x-python",
   "name": "python",
   "nbconvert_exporter": "python",
   "pygments_lexer": "ipython3",
   "version": "3.5.2"
  }
 },
 "nbformat": 4,
 "nbformat_minor": 1
}
