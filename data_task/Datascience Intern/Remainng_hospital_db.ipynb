{
 "cells": [
  {
   "cell_type": "code",
   "execution_count": 1,
   "metadata": {
    "collapsed": true
   },
   "outputs": [],
   "source": [
    "import numpy as np\n",
    "import pandas as pd\n",
    "import matplotlib.pyplot as plt\n",
    "%matplotlib inline\n",
    "import seaborn as sns"
   ]
  },
  {
   "cell_type": "code",
   "execution_count": 3,
   "metadata": {
    "collapsed": false
   },
   "outputs": [],
   "source": [
    "df_hospital_data = pd.read_excel('Hospital Data.xlsx', sheetname='Data')"
   ]
  },
  {
   "cell_type": "code",
   "execution_count": 4,
   "metadata": {
    "collapsed": false
   },
   "outputs": [
    {
     "data": {
      "text/html": [
       "<div>\n",
       "<table border=\"1\" class=\"dataframe\">\n",
       "  <thead>\n",
       "    <tr style=\"text-align: right;\">\n",
       "      <th></th>\n",
       "      <th>S.No.</th>\n",
       "      <th>Region</th>\n",
       "      <th>Name</th>\n",
       "      <th>Address</th>\n",
       "      <th>Beds</th>\n",
       "      <th>Validity</th>\n",
       "      <th>Contact No</th>\n",
       "      <th>Contact Person</th>\n",
       "      <th>Contact Number</th>\n",
       "      <th>Designation</th>\n",
       "      <th>Status</th>\n",
       "      <th>Remarks</th>\n",
       "      <th>E-Mail Id</th>\n",
       "    </tr>\n",
       "  </thead>\n",
       "  <tbody>\n",
       "    <tr>\n",
       "      <th>0</th>\n",
       "      <td>1</td>\n",
       "      <td>Nashik</td>\n",
       "      <td>M/s. St. Luke's Hospital</td>\n",
       "      <td>Ward no. 1,Shrirampur Dsit. A'nagar</td>\n",
       "      <td>200</td>\n",
       "      <td>8/31/2011</td>\n",
       "      <td>02422 223 663</td>\n",
       "      <td>Ms.Rosi</td>\n",
       "      <td>9822851815</td>\n",
       "      <td>NaN</td>\n",
       "      <td>Not Interested</td>\n",
       "      <td>No Requirement</td>\n",
       "      <td>NaN</td>\n",
       "    </tr>\n",
       "    <tr>\n",
       "      <th>1</th>\n",
       "      <td>2</td>\n",
       "      <td>Nashik</td>\n",
       "      <td>M/s. Pravara Rural Hospital</td>\n",
       "      <td>At. Loni BK,Tal.Rahata Dist.A'nagar</td>\n",
       "      <td>750</td>\n",
       "      <td>2011-11-30 00:00:00</td>\n",
       "      <td>+91-2422–271277</td>\n",
       "      <td>NaN</td>\n",
       "      <td>NaN</td>\n",
       "      <td>NaN</td>\n",
       "      <td>Not Interested</td>\n",
       "      <td>No Requirement</td>\n",
       "      <td>NaN</td>\n",
       "    </tr>\n",
       "    <tr>\n",
       "      <th>2</th>\n",
       "      <td>3</td>\n",
       "      <td>Nashik</td>\n",
       "      <td>M/s. F.J.F.M. Hospital</td>\n",
       "      <td>Vadala Mission Tal. Newasa Dist. A'nagar</td>\n",
       "      <td>150</td>\n",
       "      <td>2010-07-31 00:00:00</td>\n",
       "      <td>9192427247335+919226392894</td>\n",
       "      <td>NaN</td>\n",
       "      <td>NaN</td>\n",
       "      <td>NaN</td>\n",
       "      <td>Not Interested</td>\n",
       "      <td>No Requirement</td>\n",
       "      <td>NaN</td>\n",
       "    </tr>\n",
       "    <tr>\n",
       "      <th>3</th>\n",
       "      <td>4</td>\n",
       "      <td>Nashik</td>\n",
       "      <td>M/s. Saibaba Hospital</td>\n",
       "      <td>Opp. Bus Stand,Shirdi, Tal. Rahata Dist. A,nagar</td>\n",
       "      <td>200</td>\n",
       "      <td>2010-03-30 00:00:00</td>\n",
       "      <td>088888 28272</td>\n",
       "      <td>NaN</td>\n",
       "      <td>NaN</td>\n",
       "      <td>NaN</td>\n",
       "      <td>No Response</td>\n",
       "      <td>Wrong Number</td>\n",
       "      <td>NaN</td>\n",
       "    </tr>\n",
       "    <tr>\n",
       "      <th>4</th>\n",
       "      <td>5</td>\n",
       "      <td>Nashik</td>\n",
       "      <td>M/s. Shri Sainath Hospital</td>\n",
       "      <td>Opp. Bus Stand,Shirdi, Tal. Rahata Dist. A,nagar</td>\n",
       "      <td>300</td>\n",
       "      <td>2010-03-30 00:00:00</td>\n",
       "      <td>02423 258666, 02423 258660</td>\n",
       "      <td>Mr. SaiPrasad</td>\n",
       "      <td>NaN</td>\n",
       "      <td>NaN</td>\n",
       "      <td>Not Interested</td>\n",
       "      <td>No Requirement</td>\n",
       "      <td>NaN</td>\n",
       "    </tr>\n",
       "  </tbody>\n",
       "</table>\n",
       "</div>"
      ],
      "text/plain": [
       "   S.No.  Region                         Name  \\\n",
       "0      1  Nashik     M/s. St. Luke's Hospital   \n",
       "1      2  Nashik  M/s. Pravara Rural Hospital   \n",
       "2      3  Nashik       M/s. F.J.F.M. Hospital   \n",
       "3      4  Nashik        M/s. Saibaba Hospital   \n",
       "4      5  Nashik   M/s. Shri Sainath Hospital   \n",
       "\n",
       "                                            Address  Beds  \\\n",
       "0               Ward no. 1,Shrirampur Dsit. A'nagar   200   \n",
       "1               At. Loni BK,Tal.Rahata Dist.A'nagar   750   \n",
       "2          Vadala Mission Tal. Newasa Dist. A'nagar   150   \n",
       "3  Opp. Bus Stand,Shirdi, Tal. Rahata Dist. A,nagar   200   \n",
       "4  Opp. Bus Stand,Shirdi, Tal. Rahata Dist. A,nagar   300   \n",
       "\n",
       "              Validity                  Contact No Contact Person  \\\n",
       "0            8/31/2011               02422 223 663        Ms.Rosi   \n",
       "1  2011-11-30 00:00:00             +91-2422–271277            NaN   \n",
       "2  2010-07-31 00:00:00  9192427247335+919226392894            NaN   \n",
       "3  2010-03-30 00:00:00                088888 28272            NaN   \n",
       "4  2010-03-30 00:00:00  02423 258666, 02423 258660  Mr. SaiPrasad   \n",
       "\n",
       "  Contact Number Designation          Status         Remarks E-Mail Id  \n",
       "0     9822851815         NaN  Not Interested  No Requirement       NaN  \n",
       "1            NaN         NaN  Not Interested  No Requirement       NaN  \n",
       "2            NaN         NaN  Not Interested  No Requirement       NaN  \n",
       "3            NaN         NaN     No Response    Wrong Number       NaN  \n",
       "4            NaN         NaN  Not Interested  No Requirement       NaN  "
      ]
     },
     "execution_count": 4,
     "metadata": {},
     "output_type": "execute_result"
    }
   ],
   "source": [
    "df_hospital_data.head()"
   ]
  },
  {
   "cell_type": "code",
   "execution_count": 5,
   "metadata": {
    "collapsed": false
   },
   "outputs": [
    {
     "name": "stdout",
     "output_type": "stream",
     "text": [
      "<class 'pandas.core.frame.DataFrame'>\n",
      "RangeIndex: 149 entries, 0 to 148\n",
      "Data columns (total 13 columns):\n",
      "S.No.             149 non-null int64\n",
      "Region            149 non-null object\n",
      "Name              149 non-null object\n",
      "Address           149 non-null object\n",
      "Beds              149 non-null int64\n",
      "Validity          100 non-null object\n",
      "Contact No        142 non-null object\n",
      "Contact Person    43 non-null object\n",
      "Contact Number    29 non-null object\n",
      "Designation       20 non-null object\n",
      "Status            126 non-null object\n",
      "Remarks           125 non-null object\n",
      "E-Mail Id         9 non-null object\n",
      "dtypes: int64(2), object(11)\n",
      "memory usage: 15.2+ KB\n"
     ]
    }
   ],
   "source": [
    "df_hospital_data.info()"
   ]
  },
  {
   "cell_type": "code",
   "execution_count": 6,
   "metadata": {
    "collapsed": false
   },
   "outputs": [
    {
     "data": {
      "text/plain": [
       "array(['Nashik', 'SRO,Kolhapur', 'SRO Kolhapur', 'SRO,chiplun',\n",
       "       'Sro, Chiplun', 'SRO Chiplun', 'SRO Ratanagiri', 'SRO, Sangli',\n",
       "       'Ro- Amravati', 'SRO- Akola', 'Navi Mumbai', 'SROM-I',\n",
       "       'RO Aurangabad', 'Aurangabad', 'SRO-I, Nagpur'], dtype=object)"
      ]
     },
     "execution_count": 6,
     "metadata": {},
     "output_type": "execute_result"
    }
   ],
   "source": [
    "df_hospital_data['Region'].unique()"
   ]
  },
  {
   "cell_type": "code",
   "execution_count": 7,
   "metadata": {
    "collapsed": false
   },
   "outputs": [
    {
     "data": {
      "text/plain": [
       "Region\n",
       "Aurangabad        28\n",
       "Nashik             9\n",
       "Navi Mumbai        4\n",
       "RO Aurangabad      9\n",
       "Ro- Amravati      13\n",
       "SRO Chiplun        1\n",
       "SRO Kolhapur       5\n",
       "SRO Ratanagiri     6\n",
       "SRO, Sangli       11\n",
       "SRO,Kolhapur       5\n",
       "SRO,chiplun        1\n",
       "SRO- Akola         9\n",
       "SRO-I, Nagpur     11\n",
       "SROM-I            36\n",
       "Sro, Chiplun       1\n",
       "Name: Name, dtype: int64"
      ]
     },
     "execution_count": 7,
     "metadata": {},
     "output_type": "execute_result"
    }
   ],
   "source": [
    "df_hospital_data.groupby(['Region'])['Name'].count()"
   ]
  },
  {
   "cell_type": "code",
   "execution_count": 9,
   "metadata": {
    "collapsed": false
   },
   "outputs": [
    {
     "data": {
      "text/plain": [
       "<matplotlib.axes._subplots.AxesSubplot at 0x7fdbcfed6048>"
      ]
     },
     "execution_count": 9,
     "metadata": {},
     "output_type": "execute_result"
    },
    {
     "data": {
      "image/png": "[encoded data removed]",
      "text/plain": [
       "<matplotlib.figure.Figure at 0x7fdbcfece1d0>"
      ]
     },
     "metadata": {},
     "output_type": "display_data"
    }
   ],
   "source": [
    "df_hospital_data.groupby(['Region'])['Name'].count().plot(kind='bar')"
   ]
  },
  {
   "cell_type": "markdown",
   "metadata": {},
   "source": [
    "**SROM-I** has the highest number of hospitals with 36 hospitals, followed by **Aurangabad** with 28 hospitals"
   ]
  },
  {
   "cell_type": "code",
   "execution_count": 10,
   "metadata": {
    "collapsed": false
   },
   "outputs": [
    {
     "data": {
      "text/plain": [
       "array(['Not Interested', 'No Response', 'Interested', 'Call Back',\n",
       "       'May Revert', nan, 'Data Repeated', 'not Interested'], dtype=object)"
      ]
     },
     "execution_count": 10,
     "metadata": {},
     "output_type": "execute_result"
    }
   ],
   "source": [
    "df_hospital_data['Status'].unique()"
   ]
  },
  {
   "cell_type": "code",
   "execution_count": 11,
   "metadata": {
    "collapsed": false
   },
   "outputs": [
    {
     "data": {
      "text/plain": [
       "Status\n",
       "Call Back         15\n",
       "Data Repeated      1\n",
       "Interested         7\n",
       "May Revert         5\n",
       "No Response       72\n",
       "Not Interested    25\n",
       "not Interested     1\n",
       "Name: Name, dtype: int64"
      ]
     },
     "execution_count": 11,
     "metadata": {},
     "output_type": "execute_result"
    }
   ],
   "source": [
    "df_hospital_data.groupby(['Status'])['Name'].count()"
   ]
  },
  {
   "cell_type": "code",
   "execution_count": 12,
   "metadata": {
    "collapsed": false
   },
   "outputs": [
    {
     "data": {
      "text/plain": [
       "<matplotlib.axes._subplots.AxesSubplot at 0x7fdbd035d9e8>"
      ]
     },
     "execution_count": 12,
     "metadata": {},
     "output_type": "execute_result"
    },
    {
     "data": {
      "image/png": "[encoded data removed]",
      "text/plain": [
       "<matplotlib.figure.Figure at 0x7fdbd0027f60>"
      ]
     },
     "metadata": {},
     "output_type": "display_data"
    }
   ],
   "source": [
    "df_hospital_data.groupby(['Status'])['Name'].count().plot(kind='bar')"
   ]
  },
  {
   "cell_type": "markdown",
   "metadata": {},
   "source": [
    "Most of the hospitals showed no response but and some were not interested but on a positive not 7 hospitals were interested and 15 have said to call back"
   ]
  }
 ],
 "metadata": {
  "anaconda-cloud": {},
  "kernelspec": {
   "display_name": "Python [default]",
   "language": "python",
   "name": "python3"
  },
  "language_info": {
   "codemirror_mode": {
    "name": "ipython",
    "version": 3
   },
   "file_extension": ".py",
   "mimetype": "text/x-python",
   "name": "python",
   "nbconvert_exporter": "python",
   "pygments_lexer": "ipython3",
   "version": "3.5.2"
  }
 },
 "nbformat": 4,
 "nbformat_minor": 1
}
