{
 "cells": [
  {
   "cell_type": "code",
   "execution_count": 2,
   "metadata": {
    "collapsed": true
   },
   "outputs": [],
   "source": [
    "import numpy as np\n",
    "import pandas as pd\n",
    "import matplotlib.pyplot as plt\n",
    "%matplotlib inline\n",
    "import seaborn as sns"
   ]
  },
  {
   "cell_type": "code",
   "execution_count": 7,
   "metadata": {
    "collapsed": false
   },
   "outputs": [],
   "source": [
    "df_mahima = pd.read_excel('hms_100bedsdata_27_02_18 mahima.xlsx', sheetname='Sheet1')"
   ]
  },
  {
   "cell_type": "code",
   "execution_count": 8,
   "metadata": {
    "collapsed": false
   },
   "outputs": [
    {
     "data": {
      "text/html": [
       "<div>\n",
       "<table border=\"1\" class=\"dataframe\">\n",
       "  <thead>\n",
       "    <tr style=\"text-align: right;\">\n",
       "      <th></th>\n",
       "      <th>Sr.No.</th>\n",
       "      <th>Region</th>\n",
       "      <th>Hospital Name</th>\n",
       "      <th>Address</th>\n",
       "      <th>Beds</th>\n",
       "      <th>Contact numbers</th>\n",
       "    </tr>\n",
       "  </thead>\n",
       "  <tbody>\n",
       "    <tr>\n",
       "      <th>0</th>\n",
       "      <td>1</td>\n",
       "      <td>RO Aurangabad</td>\n",
       "      <td>Govt.Medical College &amp; Hospital</td>\n",
       "      <td>Ghati, Panchakki Road Aurangabad</td>\n",
       "      <td>1020</td>\n",
       "      <td>0240 240 2412</td>\n",
       "    </tr>\n",
       "    <tr>\n",
       "      <th>1</th>\n",
       "      <td>2</td>\n",
       "      <td>RO Aurangabad</td>\n",
       "      <td>MGM Medical College\\n&amp; Hospital</td>\n",
       "      <td>N-06, Cidco, Aurangabad</td>\n",
       "      <td>500</td>\n",
       "      <td>: 0240 660 1100</td>\n",
       "    </tr>\n",
       "    <tr>\n",
       "      <th>2</th>\n",
       "      <td>3</td>\n",
       "      <td>RO Aurangabad</td>\n",
       "      <td>Marathwada Medical &amp; Research Institute\\n( Kam...</td>\n",
       "      <td>Gat No-43, Beed By Pass Road, Satara Parisar, ...</td>\n",
       "      <td>135</td>\n",
       "      <td>98220-50629</td>\n",
       "    </tr>\n",
       "    <tr>\n",
       "      <th>3</th>\n",
       "      <td>4</td>\n",
       "      <td>RO Aurangabad</td>\n",
       "      <td>Seth Nandalal Dhoot Hospital</td>\n",
       "      <td>Plot No.A-1, A-2, MIDC\\nChikalthana</td>\n",
       "      <td>200</td>\n",
       "      <td>0240 247 8500</td>\n",
       "    </tr>\n",
       "    <tr>\n",
       "      <th>4</th>\n",
       "      <td>5</td>\n",
       "      <td>RO Aurangabad</td>\n",
       "      <td>Dr. Hedgewar Rugnalay\\n&amp; Dattaji Bhale Blood Bank</td>\n",
       "      <td>Jawahar Colony Garkheda Parisar, Aurangabad</td>\n",
       "      <td>150</td>\n",
       "      <td>0240 233 1195</td>\n",
       "    </tr>\n",
       "  </tbody>\n",
       "</table>\n",
       "</div>"
      ],
      "text/plain": [
       "   Sr.No.         Region                                      Hospital Name  \\\n",
       "0       1  RO Aurangabad                    Govt.Medical College & Hospital   \n",
       "1       2  RO Aurangabad                    MGM Medical College\\n& Hospital   \n",
       "2       3  RO Aurangabad  Marathwada Medical & Research Institute\\n( Kam...   \n",
       "3       4  RO Aurangabad                       Seth Nandalal Dhoot Hospital   \n",
       "4       5  RO Aurangabad  Dr. Hedgewar Rugnalay\\n& Dattaji Bhale Blood Bank   \n",
       "\n",
       "                                             Address  Beds  Contact numbers  \n",
       "0                   Ghati, Panchakki Road Aurangabad  1020    0240 240 2412  \n",
       "1                            N-06, Cidco, Aurangabad   500  : 0240 660 1100  \n",
       "2  Gat No-43, Beed By Pass Road, Satara Parisar, ...   135      98220-50629  \n",
       "3                Plot No.A-1, A-2, MIDC\\nChikalthana   200    0240 247 8500  \n",
       "4        Jawahar Colony Garkheda Parisar, Aurangabad   150    0240 233 1195  "
      ]
     },
     "execution_count": 8,
     "metadata": {},
     "output_type": "execute_result"
    }
   ],
   "source": [
    "df_mahima.head()"
   ]
  },
  {
   "cell_type": "code",
   "execution_count": 9,
   "metadata": {
    "collapsed": false
   },
   "outputs": [
    {
     "data": {
      "text/plain": [
       "array(['RO Aurangabad', 'Aurangabad', 'SRO-I, Nagpur'], dtype=object)"
      ]
     },
     "execution_count": 9,
     "metadata": {},
     "output_type": "execute_result"
    }
   ],
   "source": [
    "df_mahima['Region'].unique()"
   ]
  },
  {
   "cell_type": "code",
   "execution_count": 10,
   "metadata": {
    "collapsed": false
   },
   "outputs": [
    {
     "data": {
      "text/html": [
       "<div>\n",
       "<table border=\"1\" class=\"dataframe\">\n",
       "  <thead>\n",
       "    <tr style=\"text-align: right;\">\n",
       "      <th></th>\n",
       "      <th>Sr.No.</th>\n",
       "      <th>Beds</th>\n",
       "    </tr>\n",
       "  </thead>\n",
       "  <tbody>\n",
       "    <tr>\n",
       "      <th>count</th>\n",
       "      <td>48.000000</td>\n",
       "      <td>48.000000</td>\n",
       "    </tr>\n",
       "    <tr>\n",
       "      <th>mean</th>\n",
       "      <td>16.020833</td>\n",
       "      <td>240.895833</td>\n",
       "    </tr>\n",
       "    <tr>\n",
       "      <th>std</th>\n",
       "      <td>11.071315</td>\n",
       "      <td>258.815653</td>\n",
       "    </tr>\n",
       "    <tr>\n",
       "      <th>min</th>\n",
       "      <td>1.000000</td>\n",
       "      <td>100.000000</td>\n",
       "    </tr>\n",
       "    <tr>\n",
       "      <th>25%</th>\n",
       "      <td>6.750000</td>\n",
       "      <td>100.000000</td>\n",
       "    </tr>\n",
       "    <tr>\n",
       "      <th>50%</th>\n",
       "      <td>13.500000</td>\n",
       "      <td>114.000000</td>\n",
       "    </tr>\n",
       "    <tr>\n",
       "      <th>75%</th>\n",
       "      <td>25.250000</td>\n",
       "      <td>231.500000</td>\n",
       "    </tr>\n",
       "    <tr>\n",
       "      <th>max</th>\n",
       "      <td>37.000000</td>\n",
       "      <td>1401.000000</td>\n",
       "    </tr>\n",
       "  </tbody>\n",
       "</table>\n",
       "</div>"
      ],
      "text/plain": [
       "          Sr.No.         Beds\n",
       "count  48.000000    48.000000\n",
       "mean   16.020833   240.895833\n",
       "std    11.071315   258.815653\n",
       "min     1.000000   100.000000\n",
       "25%     6.750000   100.000000\n",
       "50%    13.500000   114.000000\n",
       "75%    25.250000   231.500000\n",
       "max    37.000000  1401.000000"
      ]
     },
     "execution_count": 10,
     "metadata": {},
     "output_type": "execute_result"
    }
   ],
   "source": [
    "df_mahima.describe()"
   ]
  },
  {
   "cell_type": "markdown",
   "metadata": {},
   "source": [
    "We can see that this database contains the bed wise information of hospitals in the Aurangabad-Nagpur regions with hospitals containing a minimum of 100 beds "
   ]
  },
  {
   "cell_type": "code",
   "execution_count": 22,
   "metadata": {
    "collapsed": false
   },
   "outputs": [
    {
     "name": "stdout",
     "output_type": "stream",
     "text": [
      "<class 'pandas.core.frame.DataFrame'>\n",
      "RangeIndex: 48 entries, 0 to 47\n",
      "Data columns (total 6 columns):\n",
      "Sr.No.             48 non-null int64\n",
      "Region             48 non-null object\n",
      "Hospital Name      48 non-null object\n",
      "Address            48 non-null object\n",
      "Beds               48 non-null int64\n",
      "Contact numbers    48 non-null object\n",
      "dtypes: int64(2), object(4)\n",
      "memory usage: 2.3+ KB\n"
     ]
    }
   ],
   "source": [
    "df_mahima.info()"
   ]
  },
  {
   "cell_type": "markdown",
   "metadata": {},
   "source": [
    "No null values present in this data."
   ]
  },
  {
   "cell_type": "code",
   "execution_count": 23,
   "metadata": {
    "collapsed": false
   },
   "outputs": [
    {
     "data": {
      "text/plain": [
       "Region\n",
       "Aurangabad       28\n",
       "RO Aurangabad     9\n",
       "SRO-I, Nagpur    11\n",
       "Name: Sr.No., dtype: int64"
      ]
     },
     "execution_count": 23,
     "metadata": {},
     "output_type": "execute_result"
    }
   ],
   "source": [
    "df_mahima.groupby(['Region'])['Sr.No.'].count()"
   ]
  },
  {
   "cell_type": "code",
   "execution_count": 24,
   "metadata": {
    "collapsed": false
   },
   "outputs": [
    {
     "data": {
      "text/plain": [
       "<matplotlib.axes._subplots.AxesSubplot at 0x7f3223c08358>"
      ]
     },
     "execution_count": 24,
     "metadata": {},
     "output_type": "execute_result"
    },
    {
     "data": {
      "image/png": "[encoded data removed]",
      "text/plain": [
       "<matplotlib.figure.Figure at 0x7f322121cb70>"
      ]
     },
     "metadata": {},
     "output_type": "display_data"
    }
   ],
   "source": [
    "df_mahima.groupby(['Region'])['Sr.No.'].count().plot(kind='bar')"
   ]
  },
  {
   "cell_type": "markdown",
   "metadata": {},
   "source": [
    "We can see that most of the hospitals in this database are in **Aurangabad** (28) to be precise."
   ]
  },
  {
   "cell_type": "code",
   "execution_count": 25,
   "metadata": {
    "collapsed": false
   },
   "outputs": [
    {
     "data": {
      "text/plain": [
       "count      48.000000\n",
       "mean      240.895833\n",
       "std       258.815653\n",
       "min       100.000000\n",
       "25%       100.000000\n",
       "50%       114.000000\n",
       "75%       231.500000\n",
       "max      1401.000000\n",
       "Name: Beds, dtype: float64"
      ]
     },
     "execution_count": 25,
     "metadata": {},
     "output_type": "execute_result"
    }
   ],
   "source": [
    "df_mahima['Beds'].describe()"
   ]
  },
  {
   "cell_type": "code",
   "execution_count": 26,
   "metadata": {
    "collapsed": false
   },
   "outputs": [
    {
     "data": {
      "text/plain": [
       "Sr.No.                                                    10\n",
       "Region                                         SRO-I, Nagpur\n",
       "Hospital Name      Govt. Medical College And Hospital Nagpur\n",
       "Address                               Medical Square, Nagpur\n",
       "Beds                                                    1401\n",
       "Contact numbers                              · 0712 274 4671\n",
       "Name: 46, dtype: object"
      ]
     },
     "execution_count": 26,
     "metadata": {},
     "output_type": "execute_result"
    }
   ],
   "source": [
    "df_mahima.loc[df['Beds'].argmax()]"
   ]
  },
  {
   "cell_type": "markdown",
   "metadata": {},
   "source": [
    "We can see that **Govt. Medical College And Hospital Nagpur** has the maximum number of beds with 1401 beds"
   ]
  },
  {
   "cell_type": "markdown",
   "metadata": {},
   "source": [
    "## Now looking at the 'hms_data100beds_27-02-18 lakshya.xlsx' data"
   ]
  },
  {
   "cell_type": "code",
   "execution_count": 30,
   "metadata": {
    "collapsed": false
   },
   "outputs": [],
   "source": [
    "df_lakshya = pd.read_excel('hms_data100beds_27-02-18 lakshya.xlsx', sheetname='Data')"
   ]
  },
  {
   "cell_type": "code",
   "execution_count": 31,
   "metadata": {
    "collapsed": false
   },
   "outputs": [
    {
     "data": {
      "text/html": [
       "<div>\n",
       "<table border=\"1\" class=\"dataframe\">\n",
       "  <thead>\n",
       "    <tr style=\"text-align: right;\">\n",
       "      <th></th>\n",
       "      <th>Sr.No.</th>\n",
       "      <th>Hospital Name</th>\n",
       "      <th>Address</th>\n",
       "      <th>Beds</th>\n",
       "      <th>Contact Number</th>\n",
       "      <th>Contact Person</th>\n",
       "      <th>Direct Number</th>\n",
       "      <th>Designation</th>\n",
       "      <th>Status</th>\n",
       "      <th>Remarks</th>\n",
       "      <th>Email ID</th>\n",
       "      <th>Case</th>\n",
       "    </tr>\n",
       "  </thead>\n",
       "  <tbody>\n",
       "    <tr>\n",
       "      <th>0</th>\n",
       "      <td>Date:26-02-2018</td>\n",
       "      <td>NaN</td>\n",
       "      <td>NaN</td>\n",
       "      <td>NaN</td>\n",
       "      <td>NaN</td>\n",
       "      <td>NaN</td>\n",
       "      <td>NaN</td>\n",
       "      <td>NaN</td>\n",
       "      <td>NaN</td>\n",
       "      <td>NaN</td>\n",
       "      <td>NaN</td>\n",
       "      <td>NaN</td>\n",
       "    </tr>\n",
       "    <tr>\n",
       "      <th>1</th>\n",
       "      <td>1</td>\n",
       "      <td>Balaji Heart Hospital</td>\n",
       "      <td>Victoria Road, Cross Lane III\\nByculla (E) M-27</td>\n",
       "      <td>100.0</td>\n",
       "      <td>022 2374 0000</td>\n",
       "      <td>NaN</td>\n",
       "      <td>NaN</td>\n",
       "      <td>NaN</td>\n",
       "      <td>Not Intersted</td>\n",
       "      <td>No Requirement</td>\n",
       "      <td>NaN</td>\n",
       "      <td>NaN</td>\n",
       "    </tr>\n",
       "    <tr>\n",
       "      <th>2</th>\n",
       "      <td>2</td>\n",
       "      <td>Dr. R.N Cooper, Municipal General Hospital ,</td>\n",
       "      <td>Johu, VilePare-(W),Mumbai- 56.</td>\n",
       "      <td>390.0</td>\n",
       "      <td>022 2620 7254</td>\n",
       "      <td>NaN</td>\n",
       "      <td>NaN</td>\n",
       "      <td>NaN</td>\n",
       "      <td>No Response</td>\n",
       "      <td>Call not Connected to IT</td>\n",
       "      <td>NaN</td>\n",
       "      <td>NaN</td>\n",
       "    </tr>\n",
       "    <tr>\n",
       "      <th>3</th>\n",
       "      <td>3</td>\n",
       "      <td>Bandra Holly Family Hospital Society</td>\n",
       "      <td>St. Andrew Rd, Bandra-(W), Mumbai-60</td>\n",
       "      <td>232.0</td>\n",
       "      <td>022 6267 0555</td>\n",
       "      <td>NaN</td>\n",
       "      <td>NaN</td>\n",
       "      <td>NaN</td>\n",
       "      <td>Not Interested</td>\n",
       "      <td>No Requirement</td>\n",
       "      <td>NaN</td>\n",
       "      <td>NaN</td>\n",
       "    </tr>\n",
       "    <tr>\n",
       "      <th>4</th>\n",
       "      <td>4</td>\n",
       "      <td>M/s. Lilavati Hospital &amp; Research Centre,</td>\n",
       "      <td>A- 791,Bandra.(W).    Mumbai 50</td>\n",
       "      <td>320.0</td>\n",
       "      <td>022 2675 1000</td>\n",
       "      <td>Mr.Avinash</td>\n",
       "      <td>NaN</td>\n",
       "      <td>IT head</td>\n",
       "      <td>No Response</td>\n",
       "      <td>Call not Connected to IT</td>\n",
       "      <td>NaN</td>\n",
       "      <td>NaN</td>\n",
       "    </tr>\n",
       "  </tbody>\n",
       "</table>\n",
       "</div>"
      ],
      "text/plain": [
       "            Sr.No.                                 Hospital Name  \\\n",
       "0  Date:26-02-2018                                           NaN   \n",
       "1                1                         Balaji Heart Hospital   \n",
       "2                2  Dr. R.N Cooper, Municipal General Hospital ,   \n",
       "3                3          Bandra Holly Family Hospital Society   \n",
       "4                4     M/s. Lilavati Hospital & Research Centre,   \n",
       "\n",
       "                                           Address   Beds Contact Number  \\\n",
       "0                                              NaN    NaN            NaN   \n",
       "1  Victoria Road, Cross Lane III\\nByculla (E) M-27  100.0  022 2374 0000   \n",
       "2                   Johu, VilePare-(W),Mumbai- 56.  390.0  022 2620 7254   \n",
       "3             St. Andrew Rd, Bandra-(W), Mumbai-60  232.0  022 6267 0555   \n",
       "4                  A- 791,Bandra.(W).    Mumbai 50  320.0  022 2675 1000   \n",
       "\n",
       "  Contact Person  Direct Number Designation          Status   \\\n",
       "0            NaN            NaN         NaN              NaN   \n",
       "1            NaN            NaN         NaN    Not Intersted   \n",
       "2            NaN            NaN         NaN      No Response   \n",
       "3            NaN            NaN         NaN  Not Interested    \n",
       "4     Mr.Avinash            NaN     IT head      No Response   \n",
       "\n",
       "                    Remarks Email ID Case  \n",
       "0                       NaN      NaN  NaN  \n",
       "1            No Requirement      NaN  NaN  \n",
       "2  Call not Connected to IT      NaN  NaN  \n",
       "3            No Requirement      NaN  NaN  \n",
       "4  Call not Connected to IT      NaN  NaN  "
      ]
     },
     "execution_count": 31,
     "metadata": {},
     "output_type": "execute_result"
    }
   ],
   "source": [
    "df_lakshya.head()"
   ]
  },
  {
   "cell_type": "code",
   "execution_count": 32,
   "metadata": {
    "collapsed": false
   },
   "outputs": [
    {
     "name": "stdout",
     "output_type": "stream",
     "text": [
      "<class 'pandas.core.frame.DataFrame'>\n",
      "RangeIndex: 170 entries, 0 to 169\n",
      "Data columns (total 12 columns):\n",
      "Sr.No.            170 non-null object\n",
      "Hospital Name     167 non-null object\n",
      "Address           164 non-null object\n",
      "Beds              167 non-null float64\n",
      "Contact Number    152 non-null object\n",
      "Contact Person    13 non-null object\n",
      "Direct Number     3 non-null float64\n",
      "Designation       5 non-null object\n",
      "Status            103 non-null object\n",
      "Remarks           102 non-null object\n",
      "Email ID          6 non-null object\n",
      "Case              1 non-null object\n",
      "dtypes: float64(2), object(10)\n",
      "memory usage: 16.0+ KB\n"
     ]
    }
   ],
   "source": [
    "df_lakshya.info()"
   ]
  },
  {
   "cell_type": "markdown",
   "metadata": {},
   "source": [
    "We can see that the features **Contact Person, Direct Number, Designation, Email ID, Case** have a lot of null values, this could show that the we don't have contacts in a lot of hospitals, just 13 contacts in 167 hospitals."
   ]
  },
  {
   "cell_type": "code",
   "execution_count": 34,
   "metadata": {
    "collapsed": false
   },
   "outputs": [
    {
     "data": {
      "text/plain": [
       "array([nan, 'Not Intersted', 'No Response', 'Not Interested ', 'Call Back',\n",
       "       'May Revert', 'Not Interested', 'Sent Mail', 'Call Back ',\n",
       "       'Interested', 'No Response ', 'No Respone'], dtype=object)"
      ]
     },
     "execution_count": 34,
     "metadata": {},
     "output_type": "execute_result"
    }
   ],
   "source": [
    "df_lakshya['Status '].unique()"
   ]
  },
  {
   "cell_type": "code",
   "execution_count": 37,
   "metadata": {
    "collapsed": false
   },
   "outputs": [
    {
     "data": {
      "text/html": [
       "<div>\n",
       "<table border=\"1\" class=\"dataframe\">\n",
       "  <thead>\n",
       "    <tr style=\"text-align: right;\">\n",
       "      <th></th>\n",
       "      <th>Sr.No.</th>\n",
       "      <th>Hospital Name</th>\n",
       "      <th>Address</th>\n",
       "      <th>Beds</th>\n",
       "      <th>Contact Number</th>\n",
       "      <th>Contact Person</th>\n",
       "      <th>Direct Number</th>\n",
       "      <th>Designation</th>\n",
       "      <th>Remarks</th>\n",
       "      <th>Email ID</th>\n",
       "      <th>Case</th>\n",
       "    </tr>\n",
       "    <tr>\n",
       "      <th>Status</th>\n",
       "      <th></th>\n",
       "      <th></th>\n",
       "      <th></th>\n",
       "      <th></th>\n",
       "      <th></th>\n",
       "      <th></th>\n",
       "      <th></th>\n",
       "      <th></th>\n",
       "      <th></th>\n",
       "      <th></th>\n",
       "      <th></th>\n",
       "    </tr>\n",
       "  </thead>\n",
       "  <tbody>\n",
       "    <tr>\n",
       "      <th>Call Back</th>\n",
       "      <td>9</td>\n",
       "      <td>9</td>\n",
       "      <td>9</td>\n",
       "      <td>9</td>\n",
       "      <td>9</td>\n",
       "      <td>4</td>\n",
       "      <td>0</td>\n",
       "      <td>1</td>\n",
       "      <td>9</td>\n",
       "      <td>0</td>\n",
       "      <td>0</td>\n",
       "    </tr>\n",
       "    <tr>\n",
       "      <th>Call Back</th>\n",
       "      <td>1</td>\n",
       "      <td>1</td>\n",
       "      <td>1</td>\n",
       "      <td>1</td>\n",
       "      <td>1</td>\n",
       "      <td>1</td>\n",
       "      <td>0</td>\n",
       "      <td>1</td>\n",
       "      <td>1</td>\n",
       "      <td>1</td>\n",
       "      <td>0</td>\n",
       "    </tr>\n",
       "    <tr>\n",
       "      <th>Interested</th>\n",
       "      <td>1</td>\n",
       "      <td>1</td>\n",
       "      <td>1</td>\n",
       "      <td>1</td>\n",
       "      <td>1</td>\n",
       "      <td>1</td>\n",
       "      <td>1</td>\n",
       "      <td>0</td>\n",
       "      <td>1</td>\n",
       "      <td>0</td>\n",
       "      <td>0</td>\n",
       "    </tr>\n",
       "    <tr>\n",
       "      <th>May Revert</th>\n",
       "      <td>1</td>\n",
       "      <td>1</td>\n",
       "      <td>1</td>\n",
       "      <td>1</td>\n",
       "      <td>1</td>\n",
       "      <td>1</td>\n",
       "      <td>0</td>\n",
       "      <td>0</td>\n",
       "      <td>1</td>\n",
       "      <td>1</td>\n",
       "      <td>1</td>\n",
       "    </tr>\n",
       "    <tr>\n",
       "      <th>No Respone</th>\n",
       "      <td>1</td>\n",
       "      <td>1</td>\n",
       "      <td>1</td>\n",
       "      <td>1</td>\n",
       "      <td>1</td>\n",
       "      <td>0</td>\n",
       "      <td>0</td>\n",
       "      <td>0</td>\n",
       "      <td>1</td>\n",
       "      <td>0</td>\n",
       "      <td>0</td>\n",
       "    </tr>\n",
       "    <tr>\n",
       "      <th>No Response</th>\n",
       "      <td>58</td>\n",
       "      <td>58</td>\n",
       "      <td>58</td>\n",
       "      <td>58</td>\n",
       "      <td>58</td>\n",
       "      <td>2</td>\n",
       "      <td>0</td>\n",
       "      <td>1</td>\n",
       "      <td>57</td>\n",
       "      <td>1</td>\n",
       "      <td>0</td>\n",
       "    </tr>\n",
       "    <tr>\n",
       "      <th>No Response</th>\n",
       "      <td>4</td>\n",
       "      <td>4</td>\n",
       "      <td>4</td>\n",
       "      <td>4</td>\n",
       "      <td>4</td>\n",
       "      <td>0</td>\n",
       "      <td>0</td>\n",
       "      <td>0</td>\n",
       "      <td>4</td>\n",
       "      <td>0</td>\n",
       "      <td>0</td>\n",
       "    </tr>\n",
       "    <tr>\n",
       "      <th>Not Interested</th>\n",
       "      <td>20</td>\n",
       "      <td>20</td>\n",
       "      <td>20</td>\n",
       "      <td>20</td>\n",
       "      <td>20</td>\n",
       "      <td>1</td>\n",
       "      <td>1</td>\n",
       "      <td>1</td>\n",
       "      <td>20</td>\n",
       "      <td>1</td>\n",
       "      <td>0</td>\n",
       "    </tr>\n",
       "    <tr>\n",
       "      <th>Not Interested</th>\n",
       "      <td>4</td>\n",
       "      <td>4</td>\n",
       "      <td>4</td>\n",
       "      <td>4</td>\n",
       "      <td>4</td>\n",
       "      <td>0</td>\n",
       "      <td>0</td>\n",
       "      <td>0</td>\n",
       "      <td>4</td>\n",
       "      <td>0</td>\n",
       "      <td>0</td>\n",
       "    </tr>\n",
       "    <tr>\n",
       "      <th>Not Intersted</th>\n",
       "      <td>2</td>\n",
       "      <td>2</td>\n",
       "      <td>2</td>\n",
       "      <td>2</td>\n",
       "      <td>2</td>\n",
       "      <td>0</td>\n",
       "      <td>0</td>\n",
       "      <td>0</td>\n",
       "      <td>2</td>\n",
       "      <td>0</td>\n",
       "      <td>0</td>\n",
       "    </tr>\n",
       "    <tr>\n",
       "      <th>Sent Mail</th>\n",
       "      <td>2</td>\n",
       "      <td>2</td>\n",
       "      <td>1</td>\n",
       "      <td>2</td>\n",
       "      <td>2</td>\n",
       "      <td>2</td>\n",
       "      <td>1</td>\n",
       "      <td>1</td>\n",
       "      <td>2</td>\n",
       "      <td>2</td>\n",
       "      <td>0</td>\n",
       "    </tr>\n",
       "  </tbody>\n",
       "</table>\n",
       "</div>"
      ],
      "text/plain": [
       "                 Sr.No.  Hospital Name  Address  Beds  Contact Number  \\\n",
       "Status                                                                  \n",
       "Call Back             9              9        9     9               9   \n",
       "Call Back             1              1        1     1               1   \n",
       "Interested            1              1        1     1               1   \n",
       "May Revert            1              1        1     1               1   \n",
       "No Respone            1              1        1     1               1   \n",
       "No Response          58             58       58    58              58   \n",
       "No Response           4              4        4     4               4   \n",
       "Not Interested       20             20       20    20              20   \n",
       "Not Interested        4              4        4     4               4   \n",
       "Not Intersted         2              2        2     2               2   \n",
       "Sent Mail             2              2        1     2               2   \n",
       "\n",
       "                 Contact Person  Direct Number  Designation  Remarks  \\\n",
       "Status                                                                 \n",
       "Call Back                     4              0            1        9   \n",
       "Call Back                     1              0            1        1   \n",
       "Interested                    1              1            0        1   \n",
       "May Revert                    1              0            0        1   \n",
       "No Respone                    0              0            0        1   \n",
       "No Response                   2              0            1       57   \n",
       "No Response                   0              0            0        4   \n",
       "Not Interested                1              1            1       20   \n",
       "Not Interested                0              0            0        4   \n",
       "Not Intersted                 0              0            0        2   \n",
       "Sent Mail                     2              1            1        2   \n",
       "\n",
       "                 Email ID  Case  \n",
       "Status                           \n",
       "Call Back               0     0  \n",
       "Call Back               1     0  \n",
       "Interested              0     0  \n",
       "May Revert              1     1  \n",
       "No Respone              0     0  \n",
       "No Response             1     0  \n",
       "No Response             0     0  \n",
       "Not Interested          1     0  \n",
       "Not Interested          0     0  \n",
       "Not Intersted           0     0  \n",
       "Sent Mail               2     0  "
      ]
     },
     "execution_count": 37,
     "metadata": {},
     "output_type": "execute_result"
    }
   ],
   "source": [
    "df_lakshya.groupby(['Status ']).count()"
   ]
  },
  {
   "cell_type": "code",
   "execution_count": 39,
   "metadata": {
    "collapsed": false
   },
   "outputs": [
    {
     "data": {
      "text/plain": [
       "<matplotlib.axes._subplots.AxesSubplot at 0x7f3221134940>"
      ]
     },
     "execution_count": 39,
     "metadata": {},
     "output_type": "execute_result"
    },
    {
     "data": {
      "image/png": "[encoded data removed]",
      "text/plain": [
       "<matplotlib.figure.Figure at 0x7f3220ea17b8>"
      ]
     },
     "metadata": {},
     "output_type": "display_data"
    }
   ],
   "source": [
    "df_lakshya.groupby(['Status '])['Hospital Name'].count().plot(kind='bar')"
   ]
  },
  {
   "cell_type": "markdown",
   "metadata": {},
   "source": [
    "We can see that most of the hospitals showed **No Response** to the contact."
   ]
  },
  {
   "cell_type": "code",
   "execution_count": null,
   "metadata": {
    "collapsed": true
   },
   "outputs": [],
   "source": []
  }
 ],
 "metadata": {
  "anaconda-cloud": {},
  "kernelspec": {
   "display_name": "Python [conda root]",
   "language": "python",
   "name": "conda-root-py"
  },
  "language_info": {
   "codemirror_mode": {
    "name": "ipython",
    "version": 3
   },
   "file_extension": ".py",
   "mimetype": "text/x-python",
   "name": "python",
   "nbconvert_exporter": "python",
   "pygments_lexer": "ipython3",
   "version": "3.5.2"
  }
 },
 "nbformat": 4,
 "nbformat_minor": 1
}
