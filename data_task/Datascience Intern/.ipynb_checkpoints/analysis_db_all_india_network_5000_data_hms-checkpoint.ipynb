{
 "cells": [
  {
   "cell_type": "code",
   "execution_count": 1,
   "metadata": {
    "collapsed": true
   },
   "outputs": [],
   "source": [
    "import numpy as np\n",
    "import pandas as pd\n",
    "import matplotlib.pyplot as plt\n",
    "%matplotlib inline\n",
    "import seaborn as sns"
   ]
  },
  {
   "cell_type": "code",
   "execution_count": 14,
   "metadata": {
    "collapsed": true
   },
   "outputs": [],
   "source": [
    "# the database 'ALL-INDIA-NETWORK-5000 data hms.xls' and 'ALL-INDIA-NETWORK-HOSPITALS-GENERAL (2).xls' are the same,\n",
    "# hence analyzing just one\n",
    "df = pd.read_excel('ALL-INDIA-NETWORK-5000 data hms.xls', sheetname='Sheet1')"
   ]
  },
  {
   "cell_type": "code",
   "execution_count": 15,
   "metadata": {
    "collapsed": false
   },
   "outputs": [
    {
     "data": {
      "text/html": [
       "<div>\n",
       "<table border=\"1\" class=\"dataframe\">\n",
       "  <thead>\n",
       "    <tr style=\"text-align: right;\">\n",
       "      <th></th>\n",
       "      <th>SL NO</th>\n",
       "      <th>NAME OF THE HOSPITAL</th>\n",
       "      <th>ADDRESS-1</th>\n",
       "      <th>ADDRESS-2</th>\n",
       "      <th>CITY</th>\n",
       "      <th>DISTRICT</th>\n",
       "      <th>STATE</th>\n",
       "      <th>PINCODE</th>\n",
       "      <th>STD CODE</th>\n",
       "      <th>PHONE NO.</th>\n",
       "    </tr>\n",
       "  </thead>\n",
       "  <tbody>\n",
       "    <tr>\n",
       "      <th>0</th>\n",
       "      <td>1</td>\n",
       "      <td>KAILASH HOSPITAL LTD</td>\n",
       "      <td>23, KNOWLEDGE GREEN PARK-1</td>\n",
       "      <td>INSTITUTIONAL AREA</td>\n",
       "      <td>GREATER NOIDA</td>\n",
       "      <td>GREATER NOIDA</td>\n",
       "      <td>UTTAR PRADESH</td>\n",
       "      <td>201305</td>\n",
       "      <td>0120</td>\n",
       "      <td>2321111</td>\n",
       "    </tr>\n",
       "    <tr>\n",
       "      <th>1</th>\n",
       "      <td>2</td>\n",
       "      <td>A.B.EYE INSTITUTE</td>\n",
       "      <td>NEAR BAHADURPUR RAILWAY CROSSING</td>\n",
       "      <td>RAJENDRANAGAR</td>\n",
       "      <td>PATNA</td>\n",
       "      <td>PATNA</td>\n",
       "      <td>BIHAR</td>\n",
       "      <td>800016</td>\n",
       "      <td>0612</td>\n",
       "      <td>2670292</td>\n",
       "    </tr>\n",
       "    <tr>\n",
       "      <th>2</th>\n",
       "      <td>3</td>\n",
       "      <td>A.C.HOSPITAL</td>\n",
       "      <td>104,II AGRAHARAM</td>\n",
       "      <td>SALEM</td>\n",
       "      <td>SALEM</td>\n",
       "      <td>SALEM</td>\n",
       "      <td>TAMIL NADU</td>\n",
       "      <td>636001</td>\n",
       "      <td>0427</td>\n",
       "      <td>2260577 / 2267957</td>\n",
       "    </tr>\n",
       "    <tr>\n",
       "      <th>3</th>\n",
       "      <td>4</td>\n",
       "      <td>A.G.HOSPITAL</td>\n",
       "      <td>34, KPN COLONY</td>\n",
       "      <td>3RD STREET</td>\n",
       "      <td>TIRUPUR</td>\n",
       "      <td>TIRUPUR</td>\n",
       "      <td>TAMIL NADU</td>\n",
       "      <td>641601</td>\n",
       "      <td>0421</td>\n",
       "      <td>2202444, 2202666</td>\n",
       "    </tr>\n",
       "    <tr>\n",
       "      <th>4</th>\n",
       "      <td>5</td>\n",
       "      <td>A.G.M.HOSPITAL</td>\n",
       "      <td>923, POONAMALLEE HIGH ROAD</td>\n",
       "      <td>POONAMALLEE HIGH ROAD</td>\n",
       "      <td>CHENNAI</td>\n",
       "      <td>CHENNAI</td>\n",
       "      <td>TAMIL NADU</td>\n",
       "      <td>600010</td>\n",
       "      <td>044</td>\n",
       "      <td>26411011 &amp; 26411233</td>\n",
       "    </tr>\n",
       "  </tbody>\n",
       "</table>\n",
       "</div>"
      ],
      "text/plain": [
       "   SL NO  NAME OF THE HOSPITAL                         ADDRESS-1  \\\n",
       "0      1  KAILASH HOSPITAL LTD        23, KNOWLEDGE GREEN PARK-1   \n",
       "1      2     A.B.EYE INSTITUTE  NEAR BAHADURPUR RAILWAY CROSSING   \n",
       "2      3          A.C.HOSPITAL                  104,II AGRAHARAM   \n",
       "3      4          A.G.HOSPITAL                    34, KPN COLONY   \n",
       "4      5        A.G.M.HOSPITAL        923, POONAMALLEE HIGH ROAD   \n",
       "\n",
       "               ADDRESS-2           CITY       DISTRICT         STATE   \\\n",
       "0     INSTITUTIONAL AREA  GREATER NOIDA  GREATER NOIDA  UTTAR PRADESH   \n",
       "1          RAJENDRANAGAR          PATNA          PATNA          BIHAR   \n",
       "2                  SALEM          SALEM          SALEM     TAMIL NADU   \n",
       "3             3RD STREET        TIRUPUR        TIRUPUR     TAMIL NADU   \n",
       "4  POONAMALLEE HIGH ROAD        CHENNAI        CHENNAI     TAMIL NADU   \n",
       "\n",
       "   PINCODE STD CODE            PHONE NO.  \n",
       "0   201305     0120              2321111  \n",
       "1   800016     0612              2670292  \n",
       "2   636001     0427    2260577 / 2267957  \n",
       "3   641601     0421     2202444, 2202666  \n",
       "4   600010      044  26411011 & 26411233  "
      ]
     },
     "execution_count": 15,
     "metadata": {},
     "output_type": "execute_result"
    }
   ],
   "source": [
    "df.head()"
   ]
  },
  {
   "cell_type": "markdown",
   "metadata": {},
   "source": [
    "This database contains hospital data from all over India, it mainly contains the hospital contact details and there addresses."
   ]
  },
  {
   "cell_type": "code",
   "execution_count": 16,
   "metadata": {
    "collapsed": false
   },
   "outputs": [
    {
     "name": "stdout",
     "output_type": "stream",
     "text": [
      "<class 'pandas.core.frame.DataFrame'>\n",
      "RangeIndex: 5083 entries, 0 to 5082\n",
      "Data columns (total 10 columns):\n",
      "SL NO                   5083 non-null int64\n",
      "NAME OF THE HOSPITAL    5083 non-null object\n",
      "ADDRESS-1               5083 non-null object\n",
      "ADDRESS-2               5041 non-null object\n",
      "CITY                    5083 non-null object\n",
      "DISTRICT                5083 non-null object\n",
      "STATE                   5083 non-null object\n",
      "PINCODE                 5083 non-null int64\n",
      "STD CODE                4774 non-null object\n",
      "PHONE NO.               5081 non-null object\n",
      "dtypes: int64(2), object(8)\n",
      "memory usage: 397.2+ KB\n"
     ]
    }
   ],
   "source": [
    "df.info()"
   ]
  },
  {
   "cell_type": "markdown",
   "metadata": {},
   "source": [
    "We can see that the STD CODE feature has some null values, these null values can be imputed if we have a dictionary mapping of CITY against there std codes which can be obtained externally, for now we'll leave it as is."
   ]
  },
  {
   "cell_type": "code",
   "execution_count": 17,
   "metadata": {
    "collapsed": false
   },
   "outputs": [
    {
     "data": {
      "text/html": [
       "<div>\n",
       "<table border=\"1\" class=\"dataframe\">\n",
       "  <thead>\n",
       "    <tr style=\"text-align: right;\">\n",
       "      <th></th>\n",
       "      <th>SL NO</th>\n",
       "      <th>PINCODE</th>\n",
       "    </tr>\n",
       "  </thead>\n",
       "  <tbody>\n",
       "    <tr>\n",
       "      <th>count</th>\n",
       "      <td>5083.00000</td>\n",
       "      <td>5083.000000</td>\n",
       "    </tr>\n",
       "    <tr>\n",
       "      <th>mean</th>\n",
       "      <td>2542.00000</td>\n",
       "      <td>471525.409207</td>\n",
       "    </tr>\n",
       "    <tr>\n",
       "      <th>std</th>\n",
       "      <td>1467.48004</td>\n",
       "      <td>170409.712500</td>\n",
       "    </tr>\n",
       "    <tr>\n",
       "      <th>min</th>\n",
       "      <td>1.00000</td>\n",
       "      <td>110002.000000</td>\n",
       "    </tr>\n",
       "    <tr>\n",
       "      <th>25%</th>\n",
       "      <td>1271.50000</td>\n",
       "      <td>400058.000000</td>\n",
       "    </tr>\n",
       "    <tr>\n",
       "      <th>50%</th>\n",
       "      <td>2542.00000</td>\n",
       "      <td>515001.000000</td>\n",
       "    </tr>\n",
       "    <tr>\n",
       "      <th>75%</th>\n",
       "      <td>3812.50000</td>\n",
       "      <td>600034.000000</td>\n",
       "    </tr>\n",
       "    <tr>\n",
       "      <th>max</th>\n",
       "      <td>5083.00000</td>\n",
       "      <td>844101.000000</td>\n",
       "    </tr>\n",
       "  </tbody>\n",
       "</table>\n",
       "</div>"
      ],
      "text/plain": [
       "            SL NO        PINCODE\n",
       "count  5083.00000    5083.000000\n",
       "mean   2542.00000  471525.409207\n",
       "std    1467.48004  170409.712500\n",
       "min       1.00000  110002.000000\n",
       "25%    1271.50000  400058.000000\n",
       "50%    2542.00000  515001.000000\n",
       "75%    3812.50000  600034.000000\n",
       "max    5083.00000  844101.000000"
      ]
     },
     "execution_count": 17,
     "metadata": {},
     "output_type": "execute_result"
    }
   ],
   "source": [
    "df.describe()"
   ]
  },
  {
   "cell_type": "markdown",
   "metadata": {},
   "source": [
    "Let's see the state wise distribution of the hospitals"
   ]
  },
  {
   "cell_type": "code",
   "execution_count": 18,
   "metadata": {
    "collapsed": false
   },
   "outputs": [
    {
     "data": {
      "text/plain": [
       "count           5083\n",
       "unique            30\n",
       "top       TAMIL NADU\n",
       "freq             985\n",
       "Name: STATE , dtype: object"
      ]
     },
     "execution_count": 18,
     "metadata": {},
     "output_type": "execute_result"
    }
   ],
   "source": [
    "df['STATE '].describe()"
   ]
  },
  {
   "cell_type": "code",
   "execution_count": 19,
   "metadata": {
    "collapsed": false
   },
   "outputs": [
    {
     "data": {
      "text/plain": [
       "STATE \n",
       "ANDHRA PRADESH            481\n",
       "ASSAM                      22\n",
       "BIHAR                      18\n",
       "CHANDIGARH                 18\n",
       "CHHATTISGARH               12\n",
       "DADRA AND NAGAR HAVELI      1\n",
       "DELHI                     220\n",
       "GOA                         7\n",
       "GUJARAT                   191\n",
       "HARYANA                   133\n",
       "HIMACHAL PRADESH            6\n",
       "JAMMU & KASHMIR            11\n",
       "JHARKHAND                  11\n",
       "KARNATAKA                 647\n",
       "KERALA                    198\n",
       "MADHYA PRADESH             75\n",
       "MAHARASHTRA               770\n",
       "MANIPUR                     1\n",
       "MIZORAM                     1\n",
       "NAGALAND                    2\n",
       "ORISSA                     39\n",
       "PONDICHERRY                12\n",
       "PUNJAB                    180\n",
       "RAJASTHAN                 160\n",
       "SIKKIM                      1\n",
       "TAMIL NADU                985\n",
       "TELANGANA                 482\n",
       "UTTAR PRADESH             248\n",
       "UTTARAKHAND                17\n",
       "WEST BENGAL               134\n",
       "Name: SL NO, dtype: int64"
      ]
     },
     "execution_count": 19,
     "metadata": {},
     "output_type": "execute_result"
    }
   ],
   "source": [
    "df.groupby(['STATE '])['SL NO'].count()"
   ]
  },
  {
   "cell_type": "code",
   "execution_count": 21,
   "metadata": {
    "collapsed": false
   },
   "outputs": [
    {
     "data": {
      "text/plain": [
       "<matplotlib.axes._subplots.AxesSubplot at 0x7f5429a61be0>"
      ]
     },
     "execution_count": 21,
     "metadata": {},
     "output_type": "execute_result"
    },
    {
     "data": {
      "image/png": "[encoded data removed]",
      "text/plain": [
       "<matplotlib.figure.Figure at 0x7f5429a59748>"
      ]
     },
     "metadata": {},
     "output_type": "display_data"
    }
   ],
   "source": [
    " df.groupby(['STATE '])['SL NO'].count().plot(kind='bar')"
   ]
  },
  {
   "cell_type": "markdown",
   "metadata": {},
   "source": [
    "We can see that **Tamil Nadu** has the highest number of hospitals with 985 hospitals, whereas states **Manipur, Mizoram and Sikkim** have only one hospital each. Another important observation is that the state of **Uttar Pradesh** has just 248 hospitals considering it is the most populous state in India."
   ]
  },
  {
   "cell_type": "code",
   "execution_count": null,
   "metadata": {
    "collapsed": true
   },
   "outputs": [],
   "source": []
  }
 ],
 "metadata": {
  "kernelspec": {
   "display_name": "Python [conda root]",
   "language": "python",
   "name": "conda-root-py"
  },
  "language_info": {
   "codemirror_mode": {
    "name": "ipython",
    "version": 3
   },
   "file_extension": ".py",
   "mimetype": "text/x-python",
   "name": "python",
   "nbconvert_exporter": "python",
   "pygments_lexer": "ipython3",
   "version": "3.5.2"
  }
 },
 "nbformat": 4,
 "nbformat_minor": 1
}
