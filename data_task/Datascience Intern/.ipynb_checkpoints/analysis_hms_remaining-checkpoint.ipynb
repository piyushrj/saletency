{
 "cells": [
  {
   "cell_type": "code",
   "execution_count": 1,
   "metadata": {
    "collapsed": true
   },
   "outputs": [],
   "source": [
    "import numpy as np\n",
    "import pandas as pd\n",
    "import matplotlib.pyplot as plt\n",
    "%matplotlib inline\n",
    "import seaborn as sns"
   ]
  },
  {
   "cell_type": "code",
   "execution_count": 2,
   "metadata": {
    "collapsed": true
   },
   "outputs": [],
   "source": [
    "df_hms_dataentry = pd.read_excel('hms_dataentry_22-02-18.xlsx', sheetname='Sheet1')"
   ]
  },
  {
   "cell_type": "code",
   "execution_count": 3,
   "metadata": {
    "collapsed": false
   },
   "outputs": [
    {
     "data": {
      "text/html": [
       "<div>\n",
       "<table border=\"1\" class=\"dataframe\">\n",
       "  <thead>\n",
       "    <tr style=\"text-align: right;\">\n",
       "      <th></th>\n",
       "      <th>Sr.No.</th>\n",
       "      <th>Region</th>\n",
       "      <th>Hospital Name</th>\n",
       "      <th>Address</th>\n",
       "      <th>Beds</th>\n",
       "      <th>Contact Number</th>\n",
       "    </tr>\n",
       "  </thead>\n",
       "  <tbody>\n",
       "    <tr>\n",
       "      <th>202.0</th>\n",
       "      <td>38.0</td>\n",
       "      <td>SROM-I</td>\n",
       "      <td>Balaji Heart Hospital</td>\n",
       "      <td>Victoria Road, Cross Lane III\\nByculla (E) M-27</td>\n",
       "      <td>100.0</td>\n",
       "      <td>022 2374 0000</td>\n",
       "    </tr>\n",
       "    <tr>\n",
       "      <th>203.0</th>\n",
       "      <td>39.0</td>\n",
       "      <td>SROM-II</td>\n",
       "      <td>Dr. R.N Cooper, Municipal General Hospital ,</td>\n",
       "      <td>Johu, VilePare-(W),Mumbai- 56.</td>\n",
       "      <td>390.0</td>\n",
       "      <td>022 2620 7254</td>\n",
       "    </tr>\n",
       "    <tr>\n",
       "      <th>204.0</th>\n",
       "      <td>40.0</td>\n",
       "      <td>SROM-II</td>\n",
       "      <td>Bandra Holly Family Hospital Society</td>\n",
       "      <td>St. Andrew Rd, Bandra-(W), Mumbai-60</td>\n",
       "      <td>232.0</td>\n",
       "      <td>022 6267 0555</td>\n",
       "    </tr>\n",
       "    <tr>\n",
       "      <th>205.0</th>\n",
       "      <td>41.0</td>\n",
       "      <td>SROM-II</td>\n",
       "      <td>M/s. Lilavati Hospital &amp; Research Centre,</td>\n",
       "      <td>A- 791,Bandra.(W).    Mumbai 50</td>\n",
       "      <td>320.0</td>\n",
       "      <td>022 2675 1000</td>\n",
       "    </tr>\n",
       "    <tr>\n",
       "      <th>206.0</th>\n",
       "      <td>42.0</td>\n",
       "      <td>SROM-II</td>\n",
       "      <td>M/s. Asian Heart Hospital,</td>\n",
       "      <td>G/N Block Bandra Kurla Complex, Bandhra- (E),M...</td>\n",
       "      <td>230.0</td>\n",
       "      <td>022 6739 6666</td>\n",
       "    </tr>\n",
       "  </tbody>\n",
       "</table>\n",
       "</div>"
      ],
      "text/plain": [
       "       Sr.No.   Region                                 Hospital Name  \\\n",
       "202.0    38.0   SROM-I                         Balaji Heart Hospital   \n",
       "203.0    39.0  SROM-II  Dr. R.N Cooper, Municipal General Hospital ,   \n",
       "204.0    40.0  SROM-II          Bandra Holly Family Hospital Society   \n",
       "205.0    41.0  SROM-II     M/s. Lilavati Hospital & Research Centre,   \n",
       "206.0    42.0  SROM-II                    M/s. Asian Heart Hospital,   \n",
       "\n",
       "                                                 Address   Beds Contact Number  \n",
       "202.0    Victoria Road, Cross Lane III\\nByculla (E) M-27  100.0  022 2374 0000  \n",
       "203.0                     Johu, VilePare-(W),Mumbai- 56.  390.0  022 2620 7254  \n",
       "204.0               St. Andrew Rd, Bandra-(W), Mumbai-60  232.0  022 6267 0555  \n",
       "205.0                    A- 791,Bandra.(W).    Mumbai 50  320.0  022 2675 1000  \n",
       "206.0  G/N Block Bandra Kurla Complex, Bandhra- (E),M...  230.0  022 6739 6666  "
      ]
     },
     "execution_count": 3,
     "metadata": {},
     "output_type": "execute_result"
    }
   ],
   "source": [
    "df_hms_dataentry.head()"
   ]
  },
  {
   "cell_type": "code",
   "execution_count": 4,
   "metadata": {
    "collapsed": false
   },
   "outputs": [
    {
     "name": "stdout",
     "output_type": "stream",
     "text": [
      "<class 'pandas.core.frame.DataFrame'>\n",
      "Float64Index: 119 entries, 202.0 to 319.0\n",
      "Data columns (total 6 columns):\n",
      "Sr.No.            118 non-null float64\n",
      "Region            118 non-null object\n",
      "Hospital Name     118 non-null object\n",
      "Address           115 non-null object\n",
      "Beds              118 non-null float64\n",
      "Contact Number    64 non-null object\n",
      "dtypes: float64(2), object(4)\n",
      "memory usage: 6.5+ KB\n"
     ]
    }
   ],
   "source": [
    "df_hms_dataentry.info()"
   ]
  },
  {
   "cell_type": "code",
   "execution_count": 5,
   "metadata": {
    "collapsed": false
   },
   "outputs": [
    {
     "data": {
      "text/plain": [
       "array(['SROM-I', 'SROM-II', 'Mumbai -III', 'SROM-IV', 'SROK-I', 'SROK-II',\n",
       "       'SROK-III', 'RO Pune region', 'Chandrapur', nan, 'Gadchiroli',\n",
       "       'Yavatmal'], dtype=object)"
      ]
     },
     "execution_count": 5,
     "metadata": {},
     "output_type": "execute_result"
    }
   ],
   "source": [
    "df_hms_dataentry['Region'].unique()"
   ]
  },
  {
   "cell_type": "markdown",
   "metadata": {},
   "source": [
    "Here we have another bedwise data of hospitals with minimum 100 beds in the Mumbai-Pune region"
   ]
  },
  {
   "cell_type": "code",
   "execution_count": 6,
   "metadata": {
    "collapsed": false
   },
   "outputs": [
    {
     "data": {
      "text/plain": [
       "Region\n",
       "Chandrapur         3\n",
       "Gadchiroli         1\n",
       "Mumbai -III        9\n",
       "RO Pune region    68\n",
       "SROK-I             4\n",
       "SROK-II            2\n",
       "SROK-III           1\n",
       "SROM-I             1\n",
       "SROM-II           19\n",
       "SROM-IV            8\n",
       "Yavatmal           2\n",
       "Name: Hospital Name, dtype: int64"
      ]
     },
     "execution_count": 6,
     "metadata": {},
     "output_type": "execute_result"
    }
   ],
   "source": [
    "df_hms_dataentry.groupby(['Region'])['Hospital Name'].count()"
   ]
  },
  {
   "cell_type": "code",
   "execution_count": 7,
   "metadata": {
    "collapsed": false
   },
   "outputs": [
    {
     "data": {
      "text/plain": [
       "<matplotlib.axes._subplots.AxesSubplot at 0x7f86502db160>"
      ]
     },
     "execution_count": 7,
     "metadata": {},
     "output_type": "execute_result"
    },
    {
     "data": {
      "image/png": "[encoded data removed]",
      "text/plain": [
       "<matplotlib.figure.Figure at 0x7f865052e128>"
      ]
     },
     "metadata": {},
     "output_type": "display_data"
    }
   ],
   "source": [
    "df_hms_dataentry.groupby(['Region'])['Hospital Name'].count().plot(kind='bar')"
   ]
  },
  {
   "cell_type": "markdown",
   "metadata": {},
   "source": [
    "We can clearly see that the **RO Pune region** has the highest number of hospitals with 68 hospitals according to the given data."
   ]
  },
  {
   "cell_type": "markdown",
   "metadata": {},
   "source": [
    "## Now analyzing the HMS_LeadFile_14-02-2018.xlsx"
   ]
  },
  {
   "cell_type": "code",
   "execution_count": 9,
   "metadata": {
    "collapsed": false
   },
   "outputs": [],
   "source": [
    "df_hms_leadfile = pd.read_excel('HMS_LeadFile_14-02-2018.xlsx', sheetname='Sheet1')"
   ]
  },
  {
   "cell_type": "code",
   "execution_count": 10,
   "metadata": {
    "collapsed": false
   },
   "outputs": [
    {
     "data": {
      "text/html": [
       "<div>\n",
       "<table border=\"1\" class=\"dataframe\">\n",
       "  <thead>\n",
       "    <tr style=\"text-align: right;\">\n",
       "      <th></th>\n",
       "      <th>S.No.</th>\n",
       "      <th>Date</th>\n",
       "      <th>Hospital Name</th>\n",
       "      <th>Number Of Bed</th>\n",
       "      <th>Contact Name</th>\n",
       "      <th>Designation</th>\n",
       "      <th>Contact Number</th>\n",
       "      <th>Email ID</th>\n",
       "      <th>ADDRESS-1</th>\n",
       "      <th>ADDRESS-2</th>\n",
       "      <th>CITY</th>\n",
       "      <th>DISTRICT</th>\n",
       "      <th>STATE</th>\n",
       "      <th>PINCODE</th>\n",
       "      <th>PHONE NO.</th>\n",
       "      <th>Status</th>\n",
       "      <th>Remarks</th>\n",
       "      <th>Case</th>\n",
       "    </tr>\n",
       "  </thead>\n",
       "  <tbody>\n",
       "    <tr>\n",
       "      <th>0</th>\n",
       "      <td>NaN</td>\n",
       "      <td>8/2/2018</td>\n",
       "      <td>NaN</td>\n",
       "      <td>NaN</td>\n",
       "      <td>NaN</td>\n",
       "      <td>NaN</td>\n",
       "      <td>NaN</td>\n",
       "      <td>NaN</td>\n",
       "      <td>NaN</td>\n",
       "      <td>NaN</td>\n",
       "      <td>NaN</td>\n",
       "      <td>NaN</td>\n",
       "      <td>NaN</td>\n",
       "      <td>NaN</td>\n",
       "      <td>NaN</td>\n",
       "      <td>NaN</td>\n",
       "      <td>NaN</td>\n",
       "      <td>NaN</td>\n",
       "    </tr>\n",
       "    <tr>\n",
       "      <th>1</th>\n",
       "      <td>1.0</td>\n",
       "      <td>NaN</td>\n",
       "      <td>Shree Balaji Chadha Hospital</td>\n",
       "      <td>120.0</td>\n",
       "      <td>Mr.DR Sharma</td>\n",
       "      <td>NaN</td>\n",
       "      <td>NaN</td>\n",
       "      <td>NaN</td>\n",
       "      <td>Moga Road, Near Giani Zail Singh Makkar</td>\n",
       "      <td>NaN</td>\n",
       "      <td>Punjab</td>\n",
       "      <td>Faridkot</td>\n",
       "      <td>NaN</td>\n",
       "      <td>NaN</td>\n",
       "      <td>01892 - 262797</td>\n",
       "      <td>Interested</td>\n",
       "      <td>Asking For a Demo</td>\n",
       "      <td>Spoke to Mr. Sharma, They are using software o...</td>\n",
       "    </tr>\n",
       "    <tr>\n",
       "      <th>2</th>\n",
       "      <td>2.0</td>\n",
       "      <td>NaN</td>\n",
       "      <td>Dr Raman Goyals Eye Hospital</td>\n",
       "      <td>NaN</td>\n",
       "      <td>Dr.Raman Goyal</td>\n",
       "      <td>NaN</td>\n",
       "      <td>NaN</td>\n",
       "      <td>NaN</td>\n",
       "      <td>Near Clock Tower Behind Nehru Sopping Center</td>\n",
       "      <td>NaN</td>\n",
       "      <td>Punjab</td>\n",
       "      <td>Faridkot</td>\n",
       "      <td>NaN</td>\n",
       "      <td>NaN</td>\n",
       "      <td>9815350323</td>\n",
       "      <td>May Revert</td>\n",
       "      <td>Send him details on Whatsapp</td>\n",
       "      <td>NaN</td>\n",
       "    </tr>\n",
       "    <tr>\n",
       "      <th>3</th>\n",
       "      <td>NaN</td>\n",
       "      <td>9/2/2018</td>\n",
       "      <td>NaN</td>\n",
       "      <td>NaN</td>\n",
       "      <td>NaN</td>\n",
       "      <td>NaN</td>\n",
       "      <td>NaN</td>\n",
       "      <td>NaN</td>\n",
       "      <td>NaN</td>\n",
       "      <td>NaN</td>\n",
       "      <td>NaN</td>\n",
       "      <td>NaN</td>\n",
       "      <td>NaN</td>\n",
       "      <td>NaN</td>\n",
       "      <td>NaN</td>\n",
       "      <td>NaN</td>\n",
       "      <td>NaN</td>\n",
       "      <td>NaN</td>\n",
       "    </tr>\n",
       "    <tr>\n",
       "      <th>4</th>\n",
       "      <td>3.0</td>\n",
       "      <td>NaN</td>\n",
       "      <td>MISSION OF MERCY HOSPITAL &amp; RESEARCH CENTRE</td>\n",
       "      <td>173.0</td>\n",
       "      <td>NaN</td>\n",
       "      <td>NaN</td>\n",
       "      <td>NaN</td>\n",
       "      <td>NaN</td>\n",
       "      <td># 125/1, PARK STREET,KOLKATTA-700017.</td>\n",
       "      <td>NaN</td>\n",
       "      <td>WEST BENGAL</td>\n",
       "      <td>WEST BENGAL</td>\n",
       "      <td>NaN</td>\n",
       "      <td>NaN</td>\n",
       "      <td>033 6635 2002</td>\n",
       "      <td>May Revert</td>\n",
       "      <td>Call Back on 12-02-18</td>\n",
       "      <td>NaN</td>\n",
       "    </tr>\n",
       "  </tbody>\n",
       "</table>\n",
       "</div>"
      ],
      "text/plain": [
       "   S.No.      Date                                Hospital Name  \\\n",
       "0    NaN  8/2/2018                                          NaN   \n",
       "1    1.0       NaN                 Shree Balaji Chadha Hospital   \n",
       "2    2.0       NaN                 Dr Raman Goyals Eye Hospital   \n",
       "3    NaN  9/2/2018                                          NaN   \n",
       "4    3.0       NaN  MISSION OF MERCY HOSPITAL & RESEARCH CENTRE   \n",
       "\n",
       "   Number Of Bed    Contact Name Designation Contact Number Email ID  \\\n",
       "0            NaN             NaN         NaN            NaN      NaN   \n",
       "1          120.0    Mr.DR Sharma         NaN            NaN      NaN   \n",
       "2            NaN  Dr.Raman Goyal         NaN            NaN      NaN   \n",
       "3            NaN             NaN         NaN            NaN      NaN   \n",
       "4          173.0             NaN         NaN            NaN      NaN   \n",
       "\n",
       "                                      ADDRESS-1 ADDRESS-2         CITY  \\\n",
       "0                                           NaN       NaN          NaN   \n",
       "1       Moga Road, Near Giani Zail Singh Makkar       NaN       Punjab   \n",
       "2  Near Clock Tower Behind Nehru Sopping Center       NaN       Punjab   \n",
       "3                                           NaN       NaN          NaN   \n",
       "4         # 125/1, PARK STREET,KOLKATTA-700017.       NaN  WEST BENGAL   \n",
       "\n",
       "      DISTRICT STATE   PINCODE       PHONE NO.     Status   \\\n",
       "0          NaN    NaN      NaN             NaN         NaN   \n",
       "1     Faridkot    NaN      NaN  01892 - 262797  Interested   \n",
       "2     Faridkot    NaN      NaN      9815350323  May Revert   \n",
       "3          NaN    NaN      NaN             NaN         NaN   \n",
       "4  WEST BENGAL    NaN      NaN   033 6635 2002  May Revert   \n",
       "\n",
       "                        Remarks  \\\n",
       "0                           NaN   \n",
       "1             Asking For a Demo   \n",
       "2  Send him details on Whatsapp   \n",
       "3                           NaN   \n",
       "4         Call Back on 12-02-18   \n",
       "\n",
       "                                                Case  \n",
       "0                                                NaN  \n",
       "1  Spoke to Mr. Sharma, They are using software o...  \n",
       "2                                                NaN  \n",
       "3                                                NaN  \n",
       "4                                                NaN  "
      ]
     },
     "execution_count": 10,
     "metadata": {},
     "output_type": "execute_result"
    }
   ],
   "source": [
    "df_hms_leadfile.head()"
   ]
  },
  {
   "cell_type": "code",
   "execution_count": 11,
   "metadata": {
    "collapsed": false
   },
   "outputs": [
    {
     "name": "stdout",
     "output_type": "stream",
     "text": [
      "<class 'pandas.core.frame.DataFrame'>\n",
      "RangeIndex: 25 entries, 0 to 24\n",
      "Data columns (total 18 columns):\n",
      "S.No.             14 non-null float64\n",
      "Date              7 non-null object\n",
      "Hospital Name     17 non-null object\n",
      "Number Of Bed     15 non-null float64\n",
      "Contact Name      15 non-null object\n",
      "Designation       8 non-null object\n",
      "Contact Number    8 non-null object\n",
      "Email ID          5 non-null object\n",
      "ADDRESS-1         11 non-null object\n",
      "ADDRESS-2         6 non-null object\n",
      "CITY              12 non-null object\n",
      "DISTRICT          10 non-null object\n",
      "STATE             6 non-null object\n",
      "PINCODE           6 non-null float64\n",
      "PHONE NO.         15 non-null object\n",
      "Status            17 non-null object\n",
      "Remarks           17 non-null object\n",
      "Case              9 non-null object\n",
      "dtypes: float64(3), object(15)\n",
      "memory usage: 3.6+ KB\n"
     ]
    }
   ],
   "source": [
    "df_hms_leadfile.info()"
   ]
  },
  {
   "cell_type": "markdown",
   "metadata": {},
   "source": [
    "Very less data points and that too with a lot of null values to perform data analysis on "
   ]
  },
  {
   "cell_type": "code",
   "execution_count": 13,
   "metadata": {
    "collapsed": false
   },
   "outputs": [
    {
     "data": {
      "text/plain": [
       "CITY\n",
       "BHILAI           1\n",
       "FARIDABAD        1\n",
       "HYDERABAD        1\n",
       "JAIPUR           1\n",
       "MADURAI          1\n",
       "MANGALORE        1\n",
       "Pune             1\n",
       "Punjab           2\n",
       "RAJASTHAN        1\n",
       "VISAKHAPATNAM    1\n",
       "WEST BENGAL      1\n",
       "Name: Hospital Name, dtype: int64"
      ]
     },
     "execution_count": 13,
     "metadata": {},
     "output_type": "execute_result"
    }
   ],
   "source": [
    "df_hms_leadfile.groupby(['CITY'])['Hospital Name'].count()"
   ]
  },
  {
   "cell_type": "markdown",
   "metadata": {},
   "source": [
    "## HMS Uttarakhand data"
   ]
  },
  {
   "cell_type": "code",
   "execution_count": 15,
   "metadata": {
    "collapsed": false
   },
   "outputs": [],
   "source": [
    "df_hms_uttk = pd.read_excel('HMS_Uttrakhand_21_02_2018.xlsx', sheetname='Sheet1')"
   ]
  },
  {
   "cell_type": "code",
   "execution_count": 16,
   "metadata": {
    "collapsed": false
   },
   "outputs": [
    {
     "data": {
      "text/html": [
       "<div>\n",
       "<table border=\"1\" class=\"dataframe\">\n",
       "  <thead>\n",
       "    <tr style=\"text-align: right;\">\n",
       "      <th></th>\n",
       "      <th>S.No.</th>\n",
       "      <th>Hospital Name</th>\n",
       "      <th>City/ Town</th>\n",
       "      <th>Address</th>\n",
       "      <th>Contact Person</th>\n",
       "      <th>Contact Number</th>\n",
       "      <th>Status</th>\n",
       "      <th>Remarks</th>\n",
       "    </tr>\n",
       "  </thead>\n",
       "  <tbody>\n",
       "    <tr>\n",
       "      <th>0</th>\n",
       "      <td>1</td>\n",
       "      <td>MN Srivastava Hospital</td>\n",
       "      <td>Almora</td>\n",
       "      <td>Raniketh; Kalika; Almora; Dist:Almora; Uttaran...</td>\n",
       "      <td>Dr. Renu Prakash Srivastav</td>\n",
       "      <td>STD(0534) Tel: 221511, 221054, 2204881 Fax:</td>\n",
       "      <td>NaN</td>\n",
       "      <td>NaN</td>\n",
       "    </tr>\n",
       "    <tr>\n",
       "      <th>1</th>\n",
       "      <td>2</td>\n",
       "      <td>Combined Medical Centre</td>\n",
       "      <td>Dehradun</td>\n",
       "      <td>54, Haridwar Road; Dehradun; Dist:Dehradun; Ut...</td>\n",
       "      <td>Mr. Rajiv Ranjan - Hospital Administrator</td>\n",
       "      <td>STD(0135) Tel: 2720238, 2720411, Fax: 2720921</td>\n",
       "      <td>NaN</td>\n",
       "      <td>NaN</td>\n",
       "    </tr>\n",
       "    <tr>\n",
       "      <th>2</th>\n",
       "      <td>3</td>\n",
       "      <td>Hari Ram Kohli Nursing Home</td>\n",
       "      <td>Dehradun</td>\n",
       "      <td>2, Haridwar Road; Dehradun; Dist:Dehradun; Utt...</td>\n",
       "      <td>Dr. Harish Kohli</td>\n",
       "      <td>STD(0135) Tel: 2627071, 2620063, 2720063 Fax:</td>\n",
       "      <td>NaN</td>\n",
       "      <td>NaN</td>\n",
       "    </tr>\n",
       "    <tr>\n",
       "      <th>3</th>\n",
       "      <td>4</td>\n",
       "      <td>Krishna Hospital &amp; Research Centre</td>\n",
       "      <td>Haldwani</td>\n",
       "      <td>3-136; Guru Nanak Pura; Haldwani - 263141; Dis...</td>\n",
       "      <td>Mrs. Anju Mongia - General Manager</td>\n",
       "      <td>STD(05946) Tel: 222426, 221930, 221911 Fax: 22...</td>\n",
       "      <td>Call Back</td>\n",
       "      <td>Call at 12.00</td>\n",
       "    </tr>\n",
       "    <tr>\n",
       "      <th>4</th>\n",
       "      <td>5</td>\n",
       "      <td>Sai Hospital</td>\n",
       "      <td>Haldwani</td>\n",
       "      <td>Near Mukani Chauraha; Haldwani - 263139; Dist:...</td>\n",
       "      <td>Dr. Mohan Sati - Managing Director</td>\n",
       "      <td>STD(05946) Tel: 263323, Fax: 263742</td>\n",
       "      <td>Call Back</td>\n",
       "      <td>Call at 12.00</td>\n",
       "    </tr>\n",
       "  </tbody>\n",
       "</table>\n",
       "</div>"
      ],
      "text/plain": [
       "   S.No.                       Hospital Name City/ Town  \\\n",
       "0      1              MN Srivastava Hospital     Almora   \n",
       "1      2             Combined Medical Centre   Dehradun   \n",
       "2      3         Hari Ram Kohli Nursing Home   Dehradun   \n",
       "3      4  Krishna Hospital & Research Centre   Haldwani   \n",
       "4      5                        Sai Hospital   Haldwani   \n",
       "\n",
       "                                             Address  \\\n",
       "0  Raniketh; Kalika; Almora; Dist:Almora; Uttaran...   \n",
       "1  54, Haridwar Road; Dehradun; Dist:Dehradun; Ut...   \n",
       "2  2, Haridwar Road; Dehradun; Dist:Dehradun; Utt...   \n",
       "3  3-136; Guru Nanak Pura; Haldwani - 263141; Dis...   \n",
       "4  Near Mukani Chauraha; Haldwani - 263139; Dist:...   \n",
       "\n",
       "                              Contact Person  \\\n",
       "0                 Dr. Renu Prakash Srivastav   \n",
       "1  Mr. Rajiv Ranjan - Hospital Administrator   \n",
       "2                           Dr. Harish Kohli   \n",
       "3         Mrs. Anju Mongia - General Manager   \n",
       "4         Dr. Mohan Sati - Managing Director   \n",
       "\n",
       "                                      Contact Number     Status        Remarks  \n",
       "0        STD(0534) Tel: 221511, 221054, 2204881 Fax:        NaN            NaN  \n",
       "1      STD(0135) Tel: 2720238, 2720411, Fax: 2720921        NaN            NaN  \n",
       "2      STD(0135) Tel: 2627071, 2620063, 2720063 Fax:        NaN            NaN  \n",
       "3  STD(05946) Tel: 222426, 221930, 221911 Fax: 22...  Call Back  Call at 12.00  \n",
       "4                STD(05946) Tel: 263323, Fax: 263742  Call Back  Call at 12.00  "
      ]
     },
     "execution_count": 16,
     "metadata": {},
     "output_type": "execute_result"
    }
   ],
   "source": [
    "df_hms_uttk.head()"
   ]
  },
  {
   "cell_type": "markdown",
   "metadata": {},
   "source": [
    "This database contains the hospital data in the state of Uttarakhand, and their corresponding status"
   ]
  },
  {
   "cell_type": "code",
   "execution_count": 17,
   "metadata": {
    "collapsed": false
   },
   "outputs": [
    {
     "name": "stdout",
     "output_type": "stream",
     "text": [
      "<class 'pandas.core.frame.DataFrame'>\n",
      "RangeIndex: 16 entries, 0 to 15\n",
      "Data columns (total 8 columns):\n",
      "S.No.             16 non-null int64\n",
      "Hospital Name     16 non-null object\n",
      "City/ Town        16 non-null object\n",
      "Address           16 non-null object\n",
      "Contact Person    16 non-null object\n",
      "Contact Number    16 non-null object\n",
      "Status            2 non-null object\n",
      "Remarks           3 non-null object\n",
      "dtypes: int64(1), object(7)\n",
      "memory usage: 1.1+ KB\n"
     ]
    }
   ],
   "source": [
    "df_hms_uttk.info()"
   ]
  },
  {
   "cell_type": "code",
   "execution_count": 18,
   "metadata": {
    "collapsed": false
   },
   "outputs": [
    {
     "data": {
      "text/plain": [
       "array(['Almora', 'Dehradun', 'Haldwani', 'Haridwar', 'Kashipur',\n",
       "       'Nainital', 'Pithoragarh', 'Ranikhet', 'Rishikesh', 'Roorkee',\n",
       "       'Rudrapur'], dtype=object)"
      ]
     },
     "execution_count": 18,
     "metadata": {},
     "output_type": "execute_result"
    }
   ],
   "source": [
    "df_hms_uttk['City/ Town'].unique()"
   ]
  },
  {
   "cell_type": "markdown",
   "metadata": {},
   "source": [
    "City wise distribution of the hospitals"
   ]
  },
  {
   "cell_type": "code",
   "execution_count": 19,
   "metadata": {
    "collapsed": false
   },
   "outputs": [
    {
     "data": {
      "text/plain": [
       "City/ Town\n",
       "Almora         1\n",
       "Dehradun       2\n",
       "Haldwani       2\n",
       "Haridwar       1\n",
       "Kashipur       1\n",
       "Nainital       1\n",
       "Pithoragarh    1\n",
       "Ranikhet       1\n",
       "Rishikesh      2\n",
       "Roorkee        2\n",
       "Rudrapur       2\n",
       "Name: S.No., dtype: int64"
      ]
     },
     "execution_count": 19,
     "metadata": {},
     "output_type": "execute_result"
    }
   ],
   "source": [
    "df_hms_uttk.groupby(['City/ Town'])['S.No.'].count()"
   ]
  },
  {
   "cell_type": "markdown",
   "metadata": {},
   "source": [
    "Again very limited data to perform analysis on."
   ]
  }
 ],
 "metadata": {
  "anaconda-cloud": {},
  "kernelspec": {
   "display_name": "Python [conda root]",
   "language": "python",
   "name": "conda-root-py"
  },
  "language_info": {
   "codemirror_mode": {
    "name": "ipython",
    "version": 3
   },
   "file_extension": ".py",
   "mimetype": "text/x-python",
   "name": "python",
   "nbconvert_exporter": "python",
   "pygments_lexer": "ipython3",
   "version": "3.5.2"
  }
 },
 "nbformat": 4,
 "nbformat_minor": 1
}
