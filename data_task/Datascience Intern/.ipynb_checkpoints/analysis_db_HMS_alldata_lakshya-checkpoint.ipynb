{
 "cells": [
  {
   "cell_type": "code",
   "execution_count": 1,
   "metadata": {
    "collapsed": true
   },
   "outputs": [],
   "source": [
    "import numpy as np\n",
    "import pandas as pd\n",
    "import matplotlib.pyplot as plt\n",
    "%matplotlib inline\n",
    "import seaborn as sns"
   ]
  },
  {
   "cell_type": "code",
   "execution_count": 3,
   "metadata": {
    "collapsed": false
   },
   "outputs": [],
   "source": [
    "df = pd.read_excel('HMS_alldata_lakshya_22-02-18.xlsx', sheetname='Sheet1')"
   ]
  },
  {
   "cell_type": "code",
   "execution_count": 4,
   "metadata": {
    "collapsed": false
   },
   "outputs": [
    {
     "data": {
      "text/html": [
       "<div>\n",
       "<table border=\"1\" class=\"dataframe\">\n",
       "  <thead>\n",
       "    <tr style=\"text-align: right;\">\n",
       "      <th></th>\n",
       "      <th>S.no.</th>\n",
       "      <th>Hospital</th>\n",
       "      <th>Address</th>\n",
       "      <th>Address.1</th>\n",
       "      <th>City</th>\n",
       "      <th>State</th>\n",
       "      <th>Unnamed: 6</th>\n",
       "      <th>State Code</th>\n",
       "      <th>Number</th>\n",
       "      <th>Beds</th>\n",
       "      <th>Status</th>\n",
       "      <th>Remarks</th>\n",
       "      <th>Unnamed: 12</th>\n",
       "    </tr>\n",
       "  </thead>\n",
       "  <tbody>\n",
       "    <tr>\n",
       "      <th>0</th>\n",
       "      <td>503</td>\n",
       "      <td>CARE HOSPITAL-SECUNDERABAD</td>\n",
       "      <td>NEAR CLOCK TOWER, ADJACENT LANE TO WESLEY CHURCH</td>\n",
       "      <td>MARKET STREET</td>\n",
       "      <td>HYDERABAD</td>\n",
       "      <td>TELANGANA</td>\n",
       "      <td>500003</td>\n",
       "      <td>40</td>\n",
       "      <td>66267777/ 27717736</td>\n",
       "      <td>NaN</td>\n",
       "      <td>No Response</td>\n",
       "      <td>Call not Connected</td>\n",
       "      <td>NaN</td>\n",
       "    </tr>\n",
       "    <tr>\n",
       "      <th>1</th>\n",
       "      <td>504</td>\n",
       "      <td>CAREER INSTITUTE OF MEDICAL SCIENCES</td>\n",
       "      <td>CAREER COLLEGE CAMPUS GOVINDPURA</td>\n",
       "      <td>BHEL BHOPAL</td>\n",
       "      <td>BHOPAL</td>\n",
       "      <td>MADHYA PRADESH</td>\n",
       "      <td>462023</td>\n",
       "      <td>755</td>\n",
       "      <td>2488090/2488680</td>\n",
       "      <td>NaN</td>\n",
       "      <td>No Response</td>\n",
       "      <td>Call not Connected</td>\n",
       "      <td>NaN</td>\n",
       "    </tr>\n",
       "    <tr>\n",
       "      <th>2</th>\n",
       "      <td>505</td>\n",
       "      <td>CAUVERY HOSPITAL</td>\n",
       "      <td>TERISIAN CRICLE</td>\n",
       "      <td>SIDDARTHA LAYOUT</td>\n",
       "      <td>MYSORE</td>\n",
       "      <td>KARNATAKA</td>\n",
       "      <td>570011</td>\n",
       "      <td>821</td>\n",
       "      <td>2425000,2526000</td>\n",
       "      <td>150</td>\n",
       "      <td>Call Back</td>\n",
       "      <td>Call on 23-02-18</td>\n",
       "      <td>Mr.Chandershekhar</td>\n",
       "    </tr>\n",
       "    <tr>\n",
       "      <th>3</th>\n",
       "      <td>506</td>\n",
       "      <td>CAVVERY ORTHOPAEDIC CENTRE</td>\n",
       "      <td># 408, 20TH MAIN, IST BLOCK</td>\n",
       "      <td>RAJAJI NAGAR</td>\n",
       "      <td>BANGALORE</td>\n",
       "      <td>KARNATAKA</td>\n",
       "      <td>560010</td>\n",
       "      <td>80</td>\n",
       "      <td>23125577, 23122366</td>\n",
       "      <td>NaN</td>\n",
       "      <td>No Response</td>\n",
       "      <td>Call not Connected</td>\n",
       "      <td>NaN</td>\n",
       "    </tr>\n",
       "    <tr>\n",
       "      <th>4</th>\n",
       "      <td>507</td>\n",
       "      <td>CAUVERY TRUST HOSPITAL</td>\n",
       "      <td>NO-36, PONNANKINARU STREET</td>\n",
       "      <td>VILLIVAKKAM</td>\n",
       "      <td>CHENNAI</td>\n",
       "      <td>TAMIL NADU</td>\n",
       "      <td>600049</td>\n",
       "      <td>44</td>\n",
       "      <td>26175806, 26175633</td>\n",
       "      <td>NaN</td>\n",
       "      <td>No Response</td>\n",
       "      <td>Call not Connected</td>\n",
       "      <td>NaN</td>\n",
       "    </tr>\n",
       "  </tbody>\n",
       "</table>\n",
       "</div>"
      ],
      "text/plain": [
       "   S.no.                              Hospital  \\\n",
       "0    503            CARE HOSPITAL-SECUNDERABAD   \n",
       "1    504  CAREER INSTITUTE OF MEDICAL SCIENCES   \n",
       "2    505                      CAUVERY HOSPITAL   \n",
       "3    506            CAVVERY ORTHOPAEDIC CENTRE   \n",
       "4    507                CAUVERY TRUST HOSPITAL   \n",
       "\n",
       "                                            Address         Address.1  \\\n",
       "0  NEAR CLOCK TOWER, ADJACENT LANE TO WESLEY CHURCH    MARKET STREET    \n",
       "1                  CAREER COLLEGE CAMPUS GOVINDPURA       BHEL BHOPAL   \n",
       "2                                   TERISIAN CRICLE  SIDDARTHA LAYOUT   \n",
       "3                       # 408, 20TH MAIN, IST BLOCK      RAJAJI NAGAR   \n",
       "4                        NO-36, PONNANKINARU STREET       VILLIVAKKAM   \n",
       "\n",
       "        City           State Unnamed: 6  State Code              Number Beds  \\\n",
       "0  HYDERABAD       TELANGANA     500003          40  66267777/ 27717736  NaN   \n",
       "1     BHOPAL  MADHYA PRADESH     462023         755    2488090/2488680   NaN   \n",
       "2     MYSORE       KARNATAKA     570011         821     2425000,2526000  150   \n",
       "3  BANGALORE       KARNATAKA     560010          80  23125577, 23122366  NaN   \n",
       "4    CHENNAI      TAMIL NADU     600049          44  26175806, 26175633  NaN   \n",
       "\n",
       "       Status              Remarks        Unnamed: 12  \n",
       "0  No Response  Call not Connected                NaN  \n",
       "1  No Response  Call not Connected                NaN  \n",
       "2    Call Back    Call on 23-02-18  Mr.Chandershekhar  \n",
       "3  No Response  Call not Connected                NaN  \n",
       "4  No Response  Call not Connected                NaN  "
      ]
     },
     "execution_count": 4,
     "metadata": {},
     "output_type": "execute_result"
    }
   ],
   "source": [
    "df.head()"
   ]
  },
  {
   "cell_type": "code",
   "execution_count": 5,
   "metadata": {
    "collapsed": false
   },
   "outputs": [
    {
     "name": "stdout",
     "output_type": "stream",
     "text": [
      "<class 'pandas.core.frame.DataFrame'>\n",
      "RangeIndex: 247 entries, 0 to 246\n",
      "Data columns (total 13 columns):\n",
      "S.no.          247 non-null int64\n",
      "Hospital       247 non-null object\n",
      "Address        247 non-null object\n",
      "Address.1      246 non-null object\n",
      "City           247 non-null object\n",
      "State          247 non-null object\n",
      "Unnamed: 6     247 non-null object\n",
      "State Code     247 non-null int64\n",
      "Number         247 non-null object\n",
      "Beds           103 non-null object\n",
      "Status         45 non-null object\n",
      "Remarks        45 non-null object\n",
      "Unnamed: 12    1 non-null object\n",
      "dtypes: int64(2), object(11)\n",
      "memory usage: 25.2+ KB\n"
     ]
    }
   ],
   "source": [
    "df.info()"
   ]
  },
  {
   "cell_type": "markdown",
   "metadata": {},
   "source": [
    "This database contains hospital data with address, number of beds and the status "
   ]
  },
  {
   "cell_type": "markdown",
   "metadata": {},
   "source": [
    "The **Status, Remarks and the last column** are mostly empty"
   ]
  },
  {
   "cell_type": "markdown",
   "metadata": {},
   "source": [
    "### Statewise distribution of the hospitals"
   ]
  },
  {
   "cell_type": "code",
   "execution_count": 7,
   "metadata": {
    "collapsed": false
   },
   "outputs": [
    {
     "data": {
      "text/plain": [
       "State\n",
       "AHMEDABAD            2\n",
       "ALLAHABAD            1\n",
       "AMRITSAR             3\n",
       "ANDHRA PRADESH      10\n",
       "ASSAM                1\n",
       "BANGALORE            6\n",
       "BARASAT              1\n",
       "BHANDARA             1\n",
       "CHANDIGARH           1\n",
       "CHENNAI              8\n",
       "COIMBATORE           2\n",
       "DELHI                6\n",
       "DIMAPUR              1\n",
       "ERODE                2\n",
       "FARIDABAD            1\n",
       "GUJARAT              2\n",
       "GURGAON              2\n",
       "HARYANA             10\n",
       "HIMACHAL PRADESH     1\n",
       "HOOGHLY              1\n",
       "HYDERABAD            5\n",
       "JAIPUR               3\n",
       "JALANDHAR            1\n",
       "KALPETTA             1\n",
       "KANPUR               2\n",
       "KARIMNAGAR           1\n",
       "KARNATAKA           28\n",
       "KERALA              10\n",
       "KOLKATA             10\n",
       "KOZHIKODE            1\n",
       "                    ..\n",
       "MOHALI               1\n",
       "MUMBAI               6\n",
       "NAGPUR               1\n",
       "NASHIK               1\n",
       "NEW DELHI            9\n",
       "NOIDA                1\n",
       "ORISSA               1\n",
       "PANVEL               1\n",
       "PATNA                1\n",
       "PONDICHERRY          1\n",
       "PUDUCHERRY           1\n",
       "PUDUKOTTAI           1\n",
       "PUNE                 3\n",
       "PUNJAB               6\n",
       "RAJAPALAYAM          1\n",
       "RAJASTHAN            4\n",
       "SALEM                1\n",
       "SATARA               1\n",
       "TAMIL NADU          23\n",
       "TELANGANA            7\n",
       "TEZPUR               1\n",
       "THANE                1\n",
       "THRISSUR             1\n",
       "TIRUCHENDUR          1\n",
       "TIRUCHIRAPPALLI      1\n",
       "TIRUPATI             1\n",
       "UTTAR PRADESH        9\n",
       "UTTARAKHAND          1\n",
       "WEST BENGAL          3\n",
       "YAMUNA NAGAR         1\n",
       "Name: Hospital, dtype: int64"
      ]
     },
     "execution_count": 7,
     "metadata": {},
     "output_type": "execute_result"
    }
   ],
   "source": [
    "df.groupby(['State'])['Hospital'].count()"
   ]
  },
  {
   "cell_type": "markdown",
   "metadata": {},
   "source": [
    "We can see an anamoly present in the data here, the state feature also has city values which can disrupt our analysis"
   ]
  }
 ],
 "metadata": {
  "anaconda-cloud": {},
  "kernelspec": {
   "display_name": "Python [default]",
   "language": "python",
   "name": "python3"
  },
  "language_info": {
   "codemirror_mode": {
    "name": "ipython",
    "version": 3
   },
   "file_extension": ".py",
   "mimetype": "text/x-python",
   "name": "python",
   "nbconvert_exporter": "python",
   "pygments_lexer": "ipython3",
   "version": "3.5.2"
  }
 },
 "nbformat": 4,
 "nbformat_minor": 1
}
