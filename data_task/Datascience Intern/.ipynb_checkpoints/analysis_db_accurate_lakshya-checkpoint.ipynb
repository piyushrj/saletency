{
 "cells": [
  {
   "cell_type": "code",
   "execution_count": 1,
   "metadata": {
    "collapsed": true
   },
   "outputs": [],
   "source": [
    "import numpy as np\n",
    "import pandas as pd\n",
    "import matplotlib.pyplot as plt\n",
    "%matplotlib inline\n",
    "import seaborn as sns"
   ]
  },
  {
   "cell_type": "code",
   "execution_count": 22,
   "metadata": {
    "collapsed": false
   },
   "outputs": [],
   "source": [
    "df1 = pd.read_excel('Accurate_Lakshya_22_01_2018 done.xlsx', sheetname='Sheet1')"
   ]
  },
  {
   "cell_type": "code",
   "execution_count": 23,
   "metadata": {
    "collapsed": false
   },
   "outputs": [
    {
     "data": {
      "text/html": [
       "<div>\n",
       "<table border=\"1\" class=\"dataframe\">\n",
       "  <thead>\n",
       "    <tr style=\"text-align: right;\">\n",
       "      <th></th>\n",
       "      <th>Sr_No</th>\n",
       "      <th>Location</th>\n",
       "      <th>Hospital_Name</th>\n",
       "      <th>Hospital_Category</th>\n",
       "      <th>Hospital_Care_Type</th>\n",
       "      <th>Discipline_Systems_of_Medicine</th>\n",
       "      <th>Address_Original_First_Line</th>\n",
       "      <th>State</th>\n",
       "      <th>District</th>\n",
       "      <th>Subdistrict</th>\n",
       "      <th>...</th>\n",
       "      <th>Website</th>\n",
       "      <th>Contact Name</th>\n",
       "      <th>Designation</th>\n",
       "      <th>Contact Number</th>\n",
       "      <th>Name Head IT</th>\n",
       "      <th>Contact Head</th>\n",
       "      <th>Total_Num_Beds</th>\n",
       "      <th>Status</th>\n",
       "      <th>Remarks</th>\n",
       "      <th>case</th>\n",
       "    </tr>\n",
       "  </thead>\n",
       "  <tbody>\n",
       "    <tr>\n",
       "      <th>0</th>\n",
       "      <td>201</td>\n",
       "      <td>Vimal Hospital,Near Govt Boys High School,Barnala</td>\n",
       "      <td>Dr Parmod Jain Hospital</td>\n",
       "      <td>0</td>\n",
       "      <td>0</td>\n",
       "      <td>0</td>\n",
       "      <td>K C Road</td>\n",
       "      <td>Punjab</td>\n",
       "      <td>Barnala</td>\n",
       "      <td>0</td>\n",
       "      <td>...</td>\n",
       "      <td>0</td>\n",
       "      <td>NaN</td>\n",
       "      <td>NaN</td>\n",
       "      <td>(1679) 232592</td>\n",
       "      <td>NaN</td>\n",
       "      <td>NaN</td>\n",
       "      <td>0</td>\n",
       "      <td>NaN</td>\n",
       "      <td>nr</td>\n",
       "      <td>NaN</td>\n",
       "    </tr>\n",
       "    <tr>\n",
       "      <th>1</th>\n",
       "      <td>202</td>\n",
       "      <td>K C Road Barnala</td>\n",
       "      <td>Dr Pradeep Sharma Hospital</td>\n",
       "      <td>0</td>\n",
       "      <td>0</td>\n",
       "      <td>0</td>\n",
       "      <td>Neal Gazal Hotel, Old Sabzi Mandi, K.C Road</td>\n",
       "      <td>Punjab</td>\n",
       "      <td>Barnala</td>\n",
       "      <td>0</td>\n",
       "      <td>...</td>\n",
       "      <td>0</td>\n",
       "      <td>NaN</td>\n",
       "      <td>NaN</td>\n",
       "      <td>01679 - 2326445</td>\n",
       "      <td>NaN</td>\n",
       "      <td>NaN</td>\n",
       "      <td>0</td>\n",
       "      <td>NaN</td>\n",
       "      <td>nb</td>\n",
       "      <td>NaN</td>\n",
       "    </tr>\n",
       "    <tr>\n",
       "      <th>2</th>\n",
       "      <td>203</td>\n",
       "      <td>Neal Gazal Hotel, Old Sabzi Mandi, K.C Road Ba...</td>\n",
       "      <td>Dr Rakesh Surgical Center</td>\n",
       "      <td>0</td>\n",
       "      <td>0</td>\n",
       "      <td>0</td>\n",
       "      <td>Kacha College</td>\n",
       "      <td>Punjab</td>\n",
       "      <td>Barnala</td>\n",
       "      <td>0</td>\n",
       "      <td>...</td>\n",
       "      <td>0</td>\n",
       "      <td>NaN</td>\n",
       "      <td>NaN</td>\n",
       "      <td>0167 924 3933</td>\n",
       "      <td>NaN</td>\n",
       "      <td>NaN</td>\n",
       "      <td>0</td>\n",
       "      <td>NaN</td>\n",
       "      <td>nb</td>\n",
       "      <td>NaN</td>\n",
       "    </tr>\n",
       "    <tr>\n",
       "      <th>3</th>\n",
       "      <td>204</td>\n",
       "      <td>Kacha College, Barnala</td>\n",
       "      <td>Dr. Naresh Hospital and Heart Centre</td>\n",
       "      <td>C</td>\n",
       "      <td>0</td>\n",
       "      <td>0</td>\n",
       "      <td>Sangrur Road, Dhanuala</td>\n",
       "      <td>Punjab</td>\n",
       "      <td>Barnala</td>\n",
       "      <td>0</td>\n",
       "      <td>...</td>\n",
       "      <td>0</td>\n",
       "      <td>NaN</td>\n",
       "      <td>NaN</td>\n",
       "      <td>098140 55985</td>\n",
       "      <td>NaN</td>\n",
       "      <td>NaN</td>\n",
       "      <td>0</td>\n",
       "      <td>NaN</td>\n",
       "      <td>cnr</td>\n",
       "      <td>NaN</td>\n",
       "    </tr>\n",
       "    <tr>\n",
       "      <th>4</th>\n",
       "      <td>205</td>\n",
       "      <td>Sangrur Road, Dhanuala, Barnala</td>\n",
       "      <td>G M S Multispeciality Hospital</td>\n",
       "      <td>0</td>\n",
       "      <td>0</td>\n",
       "      <td>0</td>\n",
       "      <td>K. C. Road, Near Obc Bank</td>\n",
       "      <td>Punjab</td>\n",
       "      <td>Barnala</td>\n",
       "      <td>0</td>\n",
       "      <td>...</td>\n",
       "      <td>0</td>\n",
       "      <td>NaN</td>\n",
       "      <td>NaN</td>\n",
       "      <td>UTL</td>\n",
       "      <td>NaN</td>\n",
       "      <td>NaN</td>\n",
       "      <td>0</td>\n",
       "      <td>NaN</td>\n",
       "      <td>NaN</td>\n",
       "      <td>NaN</td>\n",
       "    </tr>\n",
       "  </tbody>\n",
       "</table>\n",
       "<p>5 rows × 21 columns</p>\n",
       "</div>"
      ],
      "text/plain": [
       "   Sr_No                                           Location  \\\n",
       "0    201  Vimal Hospital,Near Govt Boys High School,Barnala   \n",
       "1    202                                   K C Road Barnala   \n",
       "2    203  Neal Gazal Hotel, Old Sabzi Mandi, K.C Road Ba...   \n",
       "3    204                             Kacha College, Barnala   \n",
       "4    205                    Sangrur Road, Dhanuala, Barnala   \n",
       "\n",
       "                          Hospital_Name Hospital_Category  Hospital_Care_Type  \\\n",
       "0               Dr Parmod Jain Hospital                 0                   0   \n",
       "1            Dr Pradeep Sharma Hospital                 0                   0   \n",
       "2             Dr Rakesh Surgical Center                 0                   0   \n",
       "3  Dr. Naresh Hospital and Heart Centre                 C                   0   \n",
       "4        G M S Multispeciality Hospital                 0                   0   \n",
       "\n",
       "   Discipline_Systems_of_Medicine  \\\n",
       "0                               0   \n",
       "1                               0   \n",
       "2                               0   \n",
       "3                               0   \n",
       "4                               0   \n",
       "\n",
       "                   Address_Original_First_Line   State District  Subdistrict  \\\n",
       "0                                     K C Road  Punjab  Barnala            0   \n",
       "1  Neal Gazal Hotel, Old Sabzi Mandi, K.C Road  Punjab  Barnala            0   \n",
       "2                                Kacha College  Punjab  Barnala            0   \n",
       "3                       Sangrur Road, Dhanuala  Punjab  Barnala            0   \n",
       "4                    K. C. Road, Near Obc Bank  Punjab  Barnala            0   \n",
       "\n",
       "  ...   Website  Contact Name  Designation   Contact Number Name Head IT  \\\n",
       "0 ...         0           NaN          NaN    (1679) 232592          NaN   \n",
       "1 ...         0           NaN          NaN  01679 - 2326445          NaN   \n",
       "2 ...         0           NaN          NaN    0167 924 3933          NaN   \n",
       "3 ...         0           NaN          NaN     098140 55985          NaN   \n",
       "4 ...         0           NaN          NaN              UTL          NaN   \n",
       "\n",
       "  Contact Head  Total_Num_Beds  Status Remarks case  \n",
       "0           NaN              0     NaN      nr  NaN  \n",
       "1           NaN              0     NaN      nb  NaN  \n",
       "2           NaN              0     NaN      nb  NaN  \n",
       "3           NaN              0     NaN     cnr  NaN  \n",
       "4           NaN              0     NaN     NaN  NaN  \n",
       "\n",
       "[5 rows x 21 columns]"
      ]
     },
     "execution_count": 23,
     "metadata": {},
     "output_type": "execute_result"
    }
   ],
   "source": [
    "df1.head()"
   ]
  },
  {
   "cell_type": "code",
   "execution_count": 24,
   "metadata": {
    "collapsed": false
   },
   "outputs": [
    {
     "name": "stdout",
     "output_type": "stream",
     "text": [
      "<class 'pandas.core.frame.DataFrame'>\n",
      "RangeIndex: 199 entries, 0 to 198\n",
      "Data columns (total 21 columns):\n",
      "Sr_No                             199 non-null int64\n",
      "Location                          199 non-null object\n",
      "Hospital_Name                     199 non-null object\n",
      "Hospital_Category                 199 non-null object\n",
      "Hospital_Care_Type                199 non-null int64\n",
      "Discipline_Systems_of_Medicine    199 non-null int64\n",
      "Address_Original_First_Line       197 non-null object\n",
      "State                             199 non-null object\n",
      "District                          199 non-null object\n",
      "Subdistrict                       199 non-null int64\n",
      "Pincode                           199 non-null int64\n",
      "Website                           199 non-null int64\n",
      "Contact Name                      0 non-null float64\n",
      "Designation                       0 non-null float64\n",
      "Contact Number                    197 non-null object\n",
      "Name Head IT                      7 non-null object\n",
      "Contact Head                      6 non-null object\n",
      "Total_Num_Beds                    199 non-null int64\n",
      "Status                            10 non-null object\n",
      "Remarks                           144 non-null object\n",
      "case                              5 non-null object\n",
      "dtypes: float64(2), int64(7), object(12)\n",
      "memory usage: 32.7+ KB\n"
     ]
    }
   ],
   "source": [
    "df1.info()"
   ]
  },
  {
   "cell_type": "markdown",
   "metadata": {},
   "source": [
    "We can clearly see that features: Contact Name, Designation, Name Head IT, Contact Head, Status, case are mostly null and their is very litte external information to impute these values hence dropping these columns."
   ]
  },
  {
   "cell_type": "code",
   "execution_count": 25,
   "metadata": {
    "collapsed": false
   },
   "outputs": [],
   "source": [
    "df1 = df1.drop(['Contact Name', 'Designation', 'Contact Head ', 'Name Head IT', 'Status', 'case'], axis = 1)"
   ]
  },
  {
   "cell_type": "code",
   "execution_count": 26,
   "metadata": {
    "collapsed": false
   },
   "outputs": [
    {
     "name": "stdout",
     "output_type": "stream",
     "text": [
      "<class 'pandas.core.frame.DataFrame'>\n",
      "RangeIndex: 199 entries, 0 to 198\n",
      "Data columns (total 15 columns):\n",
      "Sr_No                             199 non-null int64\n",
      "Location                          199 non-null object\n",
      "Hospital_Name                     199 non-null object\n",
      "Hospital_Category                 199 non-null object\n",
      "Hospital_Care_Type                199 non-null int64\n",
      "Discipline_Systems_of_Medicine    199 non-null int64\n",
      "Address_Original_First_Line       197 non-null object\n",
      "State                             199 non-null object\n",
      "District                          199 non-null object\n",
      "Subdistrict                       199 non-null int64\n",
      "Pincode                           199 non-null int64\n",
      "Website                           199 non-null int64\n",
      "Contact Number                    197 non-null object\n",
      "Total_Num_Beds                    199 non-null int64\n",
      "Remarks                           144 non-null object\n",
      "dtypes: int64(7), object(8)\n",
      "memory usage: 23.4+ KB\n"
     ]
    }
   ],
   "source": [
    "df1.info()"
   ]
  },
  {
   "cell_type": "code",
   "execution_count": 29,
   "metadata": {
    "collapsed": false
   },
   "outputs": [
    {
     "data": {
      "text/plain": [
       "count    199.0\n",
       "mean       0.0\n",
       "std        0.0\n",
       "min        0.0\n",
       "25%        0.0\n",
       "50%        0.0\n",
       "75%        0.0\n",
       "max        0.0\n",
       "Name: Hospital_Care_Type, dtype: float64"
      ]
     },
     "execution_count": 29,
     "metadata": {},
     "output_type": "execute_result"
    }
   ],
   "source": [
    "df1['Hospital_Care_Type'].describe()"
   ]
  },
  {
   "cell_type": "markdown",
   "metadata": {},
   "source": [
    "This feature is filled with all zeroes hence dropping this as well "
   ]
  },
  {
   "cell_type": "code",
   "execution_count": 31,
   "metadata": {
    "collapsed": false
   },
   "outputs": [],
   "source": [
    "df1 = df1.drop(['Hospital_Care_Type'], axis=1)"
   ]
  },
  {
   "cell_type": "code",
   "execution_count": 32,
   "metadata": {
    "collapsed": false
   },
   "outputs": [
    {
     "name": "stdout",
     "output_type": "stream",
     "text": [
      "<class 'pandas.core.frame.DataFrame'>\n",
      "RangeIndex: 199 entries, 0 to 198\n",
      "Data columns (total 14 columns):\n",
      "Sr_No                             199 non-null int64\n",
      "Location                          199 non-null object\n",
      "Hospital_Name                     199 non-null object\n",
      "Hospital_Category                 199 non-null object\n",
      "Discipline_Systems_of_Medicine    199 non-null int64\n",
      "Address_Original_First_Line       197 non-null object\n",
      "State                             199 non-null object\n",
      "District                          199 non-null object\n",
      "Subdistrict                       199 non-null int64\n",
      "Pincode                           199 non-null int64\n",
      "Website                           199 non-null int64\n",
      "Contact Number                    197 non-null object\n",
      "Total_Num_Beds                    199 non-null int64\n",
      "Remarks                           144 non-null object\n",
      "dtypes: int64(6), object(8)\n",
      "memory usage: 21.8+ KB\n"
     ]
    }
   ],
   "source": [
    "df1.info()"
   ]
  },
  {
   "cell_type": "code",
   "execution_count": 33,
   "metadata": {
    "collapsed": false
   },
   "outputs": [
    {
     "data": {
      "text/plain": [
       "array(['Punjab'], dtype=object)"
      ]
     },
     "execution_count": 33,
     "metadata": {},
     "output_type": "execute_result"
    }
   ],
   "source": [
    "df1['State'].unique()"
   ]
  },
  {
   "cell_type": "markdown",
   "metadata": {},
   "source": [
    "An important obeservation from this database is that it contains the data of hospitals from the state of Punjab only."
   ]
  },
  {
   "cell_type": "code",
   "execution_count": 34,
   "metadata": {
    "collapsed": false
   },
   "outputs": [
    {
     "data": {
      "text/plain": [
       "array(['Barnala', 'Bathinda', 'Faridkot', 'Fatehgarh Sahib'], dtype=object)"
      ]
     },
     "execution_count": 34,
     "metadata": {},
     "output_type": "execute_result"
    }
   ],
   "source": [
    "df1['District'].unique()"
   ]
  },
  {
   "cell_type": "markdown",
   "metadata": {},
   "source": [
    "Our data contains the information of hospitals from the above 4 districts in Punjab."
   ]
  },
  {
   "cell_type": "code",
   "execution_count": 38,
   "metadata": {
    "collapsed": false
   },
   "outputs": [
    {
     "data": {
      "text/html": [
       "<div>\n",
       "<table border=\"1\" class=\"dataframe\">\n",
       "  <thead>\n",
       "    <tr style=\"text-align: right;\">\n",
       "      <th></th>\n",
       "      <th>Sr_No</th>\n",
       "      <th>Location</th>\n",
       "      <th>Hospital_Name</th>\n",
       "      <th>Hospital_Category</th>\n",
       "      <th>Discipline_Systems_of_Medicine</th>\n",
       "      <th>Address_Original_First_Line</th>\n",
       "      <th>State</th>\n",
       "      <th>Subdistrict</th>\n",
       "      <th>Pincode</th>\n",
       "      <th>Website</th>\n",
       "      <th>Contact Number</th>\n",
       "      <th>Total_Num_Beds</th>\n",
       "      <th>Remarks</th>\n",
       "    </tr>\n",
       "    <tr>\n",
       "      <th>District</th>\n",
       "      <th></th>\n",
       "      <th></th>\n",
       "      <th></th>\n",
       "      <th></th>\n",
       "      <th></th>\n",
       "      <th></th>\n",
       "      <th></th>\n",
       "      <th></th>\n",
       "      <th></th>\n",
       "      <th></th>\n",
       "      <th></th>\n",
       "      <th></th>\n",
       "      <th></th>\n",
       "    </tr>\n",
       "  </thead>\n",
       "  <tbody>\n",
       "    <tr>\n",
       "      <th>Barnala</th>\n",
       "      <td>22</td>\n",
       "      <td>22</td>\n",
       "      <td>22</td>\n",
       "      <td>22</td>\n",
       "      <td>22</td>\n",
       "      <td>22</td>\n",
       "      <td>22</td>\n",
       "      <td>22</td>\n",
       "      <td>22</td>\n",
       "      <td>22</td>\n",
       "      <td>22</td>\n",
       "      <td>22</td>\n",
       "      <td>19</td>\n",
       "    </tr>\n",
       "    <tr>\n",
       "      <th>Bathinda</th>\n",
       "      <td>73</td>\n",
       "      <td>73</td>\n",
       "      <td>73</td>\n",
       "      <td>73</td>\n",
       "      <td>73</td>\n",
       "      <td>72</td>\n",
       "      <td>73</td>\n",
       "      <td>73</td>\n",
       "      <td>73</td>\n",
       "      <td>73</td>\n",
       "      <td>73</td>\n",
       "      <td>73</td>\n",
       "      <td>66</td>\n",
       "    </tr>\n",
       "    <tr>\n",
       "      <th>Faridkot</th>\n",
       "      <td>34</td>\n",
       "      <td>34</td>\n",
       "      <td>34</td>\n",
       "      <td>34</td>\n",
       "      <td>34</td>\n",
       "      <td>33</td>\n",
       "      <td>34</td>\n",
       "      <td>34</td>\n",
       "      <td>34</td>\n",
       "      <td>34</td>\n",
       "      <td>34</td>\n",
       "      <td>34</td>\n",
       "      <td>25</td>\n",
       "    </tr>\n",
       "    <tr>\n",
       "      <th>Fatehgarh Sahib</th>\n",
       "      <td>70</td>\n",
       "      <td>70</td>\n",
       "      <td>70</td>\n",
       "      <td>70</td>\n",
       "      <td>70</td>\n",
       "      <td>70</td>\n",
       "      <td>70</td>\n",
       "      <td>70</td>\n",
       "      <td>70</td>\n",
       "      <td>70</td>\n",
       "      <td>68</td>\n",
       "      <td>70</td>\n",
       "      <td>34</td>\n",
       "    </tr>\n",
       "  </tbody>\n",
       "</table>\n",
       "</div>"
      ],
      "text/plain": [
       "                 Sr_No  Location  Hospital_Name  Hospital_Category  \\\n",
       "District                                                             \n",
       "Barnala             22        22             22                 22   \n",
       "Bathinda            73        73             73                 73   \n",
       "Faridkot            34        34             34                 34   \n",
       "Fatehgarh Sahib     70        70             70                 70   \n",
       "\n",
       "                 Discipline_Systems_of_Medicine  Address_Original_First_Line  \\\n",
       "District                                                                       \n",
       "Barnala                                      22                           22   \n",
       "Bathinda                                     73                           72   \n",
       "Faridkot                                     34                           33   \n",
       "Fatehgarh Sahib                              70                           70   \n",
       "\n",
       "                 State  Subdistrict  Pincode  Website  Contact Number  \\\n",
       "District                                                                \n",
       "Barnala             22           22       22       22              22   \n",
       "Bathinda            73           73       73       73              73   \n",
       "Faridkot            34           34       34       34              34   \n",
       "Fatehgarh Sahib     70           70       70       70              68   \n",
       "\n",
       "                 Total_Num_Beds  Remarks  \n",
       "District                                  \n",
       "Barnala                      22       19  \n",
       "Bathinda                     73       66  \n",
       "Faridkot                     34       25  \n",
       "Fatehgarh Sahib              70       34  "
      ]
     },
     "execution_count": 38,
     "metadata": {},
     "output_type": "execute_result"
    }
   ],
   "source": [
    "df1.groupby(['District']).count()"
   ]
  },
  {
   "cell_type": "markdown",
   "metadata": {},
   "source": [
    "We can clearly see that Bathinda and Fategarh Sahib has more hospitals (73 and 70 respectively) than Barnala and Faridkot (with 22 and 34 hospitals repectively)"
   ]
  },
  {
   "cell_type": "code",
   "execution_count": 49,
   "metadata": {
    "collapsed": false
   },
   "outputs": [
    {
     "data": {
      "text/plain": [
       "<matplotlib.axes._subplots.AxesSubplot at 0x7f0db2b755c0>"
      ]
     },
     "execution_count": 49,
     "metadata": {},
     "output_type": "execute_result"
    },
    {
     "data": {
      "image/png": "[encoded data removed]",
      "text/plain": [
       "<matplotlib.figure.Figure at 0x7f0db232b208>"
      ]
     },
     "metadata": {},
     "output_type": "display_data"
    }
   ],
   "source": [
    "df1.groupby(['District'])['Sr_No'].count().plot(kind='bar')"
   ]
  },
  {
   "cell_type": "code",
   "execution_count": 50,
   "metadata": {
    "collapsed": false
   },
   "outputs": [
    {
     "name": "stdout",
     "output_type": "stream",
     "text": [
      "<class 'pandas.core.frame.DataFrame'>\n",
      "RangeIndex: 199 entries, 0 to 198\n",
      "Data columns (total 14 columns):\n",
      "Sr_No                             199 non-null int64\n",
      "Location                          199 non-null object\n",
      "Hospital_Name                     199 non-null object\n",
      "Hospital_Category                 199 non-null object\n",
      "Discipline_Systems_of_Medicine    199 non-null int64\n",
      "Address_Original_First_Line       197 non-null object\n",
      "State                             199 non-null object\n",
      "District                          199 non-null object\n",
      "Subdistrict                       199 non-null int64\n",
      "Pincode                           199 non-null int64\n",
      "Website                           199 non-null int64\n",
      "Contact Number                    197 non-null object\n",
      "Total_Num_Beds                    199 non-null int64\n",
      "Remarks                           144 non-null object\n",
      "dtypes: int64(6), object(8)\n",
      "memory usage: 21.8+ KB\n"
     ]
    }
   ],
   "source": [
    "df1.info()"
   ]
  },
  {
   "cell_type": "code",
   "execution_count": 52,
   "metadata": {
    "collapsed": false
   },
   "outputs": [
    {
     "data": {
      "text/plain": [
       "array([0, 'C', 'Public/ Government'], dtype=object)"
      ]
     },
     "execution_count": 52,
     "metadata": {},
     "output_type": "execute_result"
    }
   ],
   "source": [
    "df1['Hospital_Category'].unique()"
   ]
  },
  {
   "cell_type": "code",
   "execution_count": 53,
   "metadata": {
    "collapsed": false
   },
   "outputs": [
    {
     "data": {
      "text/html": [
       "<div>\n",
       "<table border=\"1\" class=\"dataframe\">\n",
       "  <thead>\n",
       "    <tr style=\"text-align: right;\">\n",
       "      <th></th>\n",
       "      <th>Sr_No</th>\n",
       "      <th>Location</th>\n",
       "      <th>Hospital_Name</th>\n",
       "      <th>Discipline_Systems_of_Medicine</th>\n",
       "      <th>Address_Original_First_Line</th>\n",
       "      <th>State</th>\n",
       "      <th>District</th>\n",
       "      <th>Subdistrict</th>\n",
       "      <th>Pincode</th>\n",
       "      <th>Website</th>\n",
       "      <th>Contact Number</th>\n",
       "      <th>Total_Num_Beds</th>\n",
       "      <th>Remarks</th>\n",
       "    </tr>\n",
       "    <tr>\n",
       "      <th>Hospital_Category</th>\n",
       "      <th></th>\n",
       "      <th></th>\n",
       "      <th></th>\n",
       "      <th></th>\n",
       "      <th></th>\n",
       "      <th></th>\n",
       "      <th></th>\n",
       "      <th></th>\n",
       "      <th></th>\n",
       "      <th></th>\n",
       "      <th></th>\n",
       "      <th></th>\n",
       "      <th></th>\n",
       "    </tr>\n",
       "  </thead>\n",
       "  <tbody>\n",
       "    <tr>\n",
       "      <th>0</th>\n",
       "      <td>197</td>\n",
       "      <td>197</td>\n",
       "      <td>197</td>\n",
       "      <td>197</td>\n",
       "      <td>195</td>\n",
       "      <td>197</td>\n",
       "      <td>197</td>\n",
       "      <td>197</td>\n",
       "      <td>197</td>\n",
       "      <td>197</td>\n",
       "      <td>195</td>\n",
       "      <td>197</td>\n",
       "      <td>143</td>\n",
       "    </tr>\n",
       "    <tr>\n",
       "      <th>C</th>\n",
       "      <td>1</td>\n",
       "      <td>1</td>\n",
       "      <td>1</td>\n",
       "      <td>1</td>\n",
       "      <td>1</td>\n",
       "      <td>1</td>\n",
       "      <td>1</td>\n",
       "      <td>1</td>\n",
       "      <td>1</td>\n",
       "      <td>1</td>\n",
       "      <td>1</td>\n",
       "      <td>1</td>\n",
       "      <td>1</td>\n",
       "    </tr>\n",
       "    <tr>\n",
       "      <th>Public/ Government</th>\n",
       "      <td>1</td>\n",
       "      <td>1</td>\n",
       "      <td>1</td>\n",
       "      <td>1</td>\n",
       "      <td>1</td>\n",
       "      <td>1</td>\n",
       "      <td>1</td>\n",
       "      <td>1</td>\n",
       "      <td>1</td>\n",
       "      <td>1</td>\n",
       "      <td>1</td>\n",
       "      <td>1</td>\n",
       "      <td>0</td>\n",
       "    </tr>\n",
       "  </tbody>\n",
       "</table>\n",
       "</div>"
      ],
      "text/plain": [
       "                    Sr_No  Location  Hospital_Name  \\\n",
       "Hospital_Category                                    \n",
       "0                     197       197            197   \n",
       "C                       1         1              1   \n",
       "Public/ Government      1         1              1   \n",
       "\n",
       "                    Discipline_Systems_of_Medicine  \\\n",
       "Hospital_Category                                    \n",
       "0                                              197   \n",
       "C                                                1   \n",
       "Public/ Government                               1   \n",
       "\n",
       "                    Address_Original_First_Line  State  District  Subdistrict  \\\n",
       "Hospital_Category                                                               \n",
       "0                                           195    197       197          197   \n",
       "C                                             1      1         1            1   \n",
       "Public/ Government                            1      1         1            1   \n",
       "\n",
       "                    Pincode  Website  Contact Number  Total_Num_Beds  Remarks  \n",
       "Hospital_Category                                                              \n",
       "0                       197      197             195             197      143  \n",
       "C                         1        1               1               1        1  \n",
       "Public/ Government        1        1               1               1        0  "
      ]
     },
     "execution_count": 53,
     "metadata": {},
     "output_type": "execute_result"
    }
   ],
   "source": [
    "df1.groupby(['Hospital_Category']).count()"
   ]
  },
  {
   "cell_type": "markdown",
   "metadata": {},
   "source": [
    "We can see that the feature Hospital category is mostly 0 hence this feature also doesn't provide us differentiable information, there dropping this column as well."
   ]
  },
  {
   "cell_type": "code",
   "execution_count": 54,
   "metadata": {
    "collapsed": true
   },
   "outputs": [],
   "source": [
    "df1 = df1.drop(['Hospital_Category'], axis=1)"
   ]
  },
  {
   "cell_type": "code",
   "execution_count": 55,
   "metadata": {
    "collapsed": false
   },
   "outputs": [
    {
     "name": "stdout",
     "output_type": "stream",
     "text": [
      "<class 'pandas.core.frame.DataFrame'>\n",
      "RangeIndex: 199 entries, 0 to 198\n",
      "Data columns (total 13 columns):\n",
      "Sr_No                             199 non-null int64\n",
      "Location                          199 non-null object\n",
      "Hospital_Name                     199 non-null object\n",
      "Discipline_Systems_of_Medicine    199 non-null int64\n",
      "Address_Original_First_Line       197 non-null object\n",
      "State                             199 non-null object\n",
      "District                          199 non-null object\n",
      "Subdistrict                       199 non-null int64\n",
      "Pincode                           199 non-null int64\n",
      "Website                           199 non-null int64\n",
      "Contact Number                    197 non-null object\n",
      "Total_Num_Beds                    199 non-null int64\n",
      "Remarks                           144 non-null object\n",
      "dtypes: int64(6), object(7)\n",
      "memory usage: 20.3+ KB\n"
     ]
    }
   ],
   "source": [
    "df1.info()"
   ]
  },
  {
   "cell_type": "code",
   "execution_count": 56,
   "metadata": {
    "collapsed": false
   },
   "outputs": [
    {
     "data": {
      "text/html": [
       "<div>\n",
       "<table border=\"1\" class=\"dataframe\">\n",
       "  <thead>\n",
       "    <tr style=\"text-align: right;\">\n",
       "      <th></th>\n",
       "      <th>Sr_No</th>\n",
       "      <th>Discipline_Systems_of_Medicine</th>\n",
       "      <th>Subdistrict</th>\n",
       "      <th>Pincode</th>\n",
       "      <th>Website</th>\n",
       "      <th>Total_Num_Beds</th>\n",
       "    </tr>\n",
       "  </thead>\n",
       "  <tbody>\n",
       "    <tr>\n",
       "      <th>count</th>\n",
       "      <td>199.000000</td>\n",
       "      <td>199.0</td>\n",
       "      <td>199.0</td>\n",
       "      <td>199.000000</td>\n",
       "      <td>199.0</td>\n",
       "      <td>199.000000</td>\n",
       "    </tr>\n",
       "    <tr>\n",
       "      <th>mean</th>\n",
       "      <td>300.000000</td>\n",
       "      <td>0.0</td>\n",
       "      <td>0.0</td>\n",
       "      <td>148888.472362</td>\n",
       "      <td>0.0</td>\n",
       "      <td>4.306533</td>\n",
       "    </tr>\n",
       "    <tr>\n",
       "      <th>std</th>\n",
       "      <td>57.590508</td>\n",
       "      <td>0.0</td>\n",
       "      <td>0.0</td>\n",
       "      <td>2879.777334</td>\n",
       "      <td>0.0</td>\n",
       "      <td>15.641550</td>\n",
       "    </tr>\n",
       "    <tr>\n",
       "      <th>min</th>\n",
       "      <td>201.000000</td>\n",
       "      <td>0.0</td>\n",
       "      <td>0.0</td>\n",
       "      <td>140406.000000</td>\n",
       "      <td>0.0</td>\n",
       "      <td>0.000000</td>\n",
       "    </tr>\n",
       "    <tr>\n",
       "      <th>25%</th>\n",
       "      <td>250.500000</td>\n",
       "      <td>0.0</td>\n",
       "      <td>0.0</td>\n",
       "      <td>147001.000000</td>\n",
       "      <td>0.0</td>\n",
       "      <td>0.000000</td>\n",
       "    </tr>\n",
       "    <tr>\n",
       "      <th>50%</th>\n",
       "      <td>300.000000</td>\n",
       "      <td>0.0</td>\n",
       "      <td>0.0</td>\n",
       "      <td>151001.000000</td>\n",
       "      <td>0.0</td>\n",
       "      <td>0.000000</td>\n",
       "    </tr>\n",
       "    <tr>\n",
       "      <th>75%</th>\n",
       "      <td>349.500000</td>\n",
       "      <td>0.0</td>\n",
       "      <td>0.0</td>\n",
       "      <td>151001.000000</td>\n",
       "      <td>0.0</td>\n",
       "      <td>0.000000</td>\n",
       "    </tr>\n",
       "    <tr>\n",
       "      <th>max</th>\n",
       "      <td>399.000000</td>\n",
       "      <td>0.0</td>\n",
       "      <td>0.0</td>\n",
       "      <td>151509.000000</td>\n",
       "      <td>0.0</td>\n",
       "      <td>150.000000</td>\n",
       "    </tr>\n",
       "  </tbody>\n",
       "</table>\n",
       "</div>"
      ],
      "text/plain": [
       "            Sr_No  Discipline_Systems_of_Medicine  Subdistrict        Pincode  \\\n",
       "count  199.000000                           199.0        199.0     199.000000   \n",
       "mean   300.000000                             0.0          0.0  148888.472362   \n",
       "std     57.590508                             0.0          0.0    2879.777334   \n",
       "min    201.000000                             0.0          0.0  140406.000000   \n",
       "25%    250.500000                             0.0          0.0  147001.000000   \n",
       "50%    300.000000                             0.0          0.0  151001.000000   \n",
       "75%    349.500000                             0.0          0.0  151001.000000   \n",
       "max    399.000000                             0.0          0.0  151509.000000   \n",
       "\n",
       "       Website  Total_Num_Beds  \n",
       "count    199.0      199.000000  \n",
       "mean       0.0        4.306533  \n",
       "std        0.0       15.641550  \n",
       "min        0.0        0.000000  \n",
       "25%        0.0        0.000000  \n",
       "50%        0.0        0.000000  \n",
       "75%        0.0        0.000000  \n",
       "max        0.0      150.000000  "
      ]
     },
     "execution_count": 56,
     "metadata": {},
     "output_type": "execute_result"
    }
   ],
   "source": [
    "df1.describe()"
   ]
  },
  {
   "cell_type": "code",
   "execution_count": 58,
   "metadata": {
    "collapsed": false
   },
   "outputs": [
    {
     "data": {
      "text/plain": [
       "array([0])"
      ]
     },
     "execution_count": 58,
     "metadata": {},
     "output_type": "execute_result"
    }
   ],
   "source": [
    "df1['Website'].unique()"
   ]
  },
  {
   "cell_type": "code",
   "execution_count": 59,
   "metadata": {
    "collapsed": false
   },
   "outputs": [
    {
     "data": {
      "text/plain": [
       "array([0])"
      ]
     },
     "execution_count": 59,
     "metadata": {},
     "output_type": "execute_result"
    }
   ],
   "source": [
    "df1['Subdistrict'].unique()"
   ]
  },
  {
   "cell_type": "code",
   "execution_count": 60,
   "metadata": {
    "collapsed": false
   },
   "outputs": [
    {
     "data": {
      "text/plain": [
       "array([0])"
      ]
     },
     "execution_count": 60,
     "metadata": {},
     "output_type": "execute_result"
    }
   ],
   "source": [
    "df1['Discipline_Systems_of_Medicine'].unique()"
   ]
  },
  {
   "cell_type": "markdown",
   "metadata": {},
   "source": [
    "Now we can see that these features although not containing null values are filled with zeroes, hence dropping these as well"
   ]
  },
  {
   "cell_type": "code",
   "execution_count": 62,
   "metadata": {
    "collapsed": false
   },
   "outputs": [],
   "source": [
    "df1 = df1.drop(['Website','Subdistrict','Discipline_Systems_of_Medicine'], axis=1)"
   ]
  },
  {
   "cell_type": "code",
   "execution_count": 63,
   "metadata": {
    "collapsed": false
   },
   "outputs": [
    {
     "name": "stdout",
     "output_type": "stream",
     "text": [
      "<class 'pandas.core.frame.DataFrame'>\n",
      "RangeIndex: 199 entries, 0 to 198\n",
      "Data columns (total 10 columns):\n",
      "Sr_No                          199 non-null int64\n",
      "Location                       199 non-null object\n",
      "Hospital_Name                  199 non-null object\n",
      "Address_Original_First_Line    197 non-null object\n",
      "State                          199 non-null object\n",
      "District                       199 non-null object\n",
      "Pincode                        199 non-null int64\n",
      "Contact Number                 197 non-null object\n",
      "Total_Num_Beds                 199 non-null int64\n",
      "Remarks                        144 non-null object\n",
      "dtypes: int64(3), object(7)\n",
      "memory usage: 15.6+ KB\n"
     ]
    }
   ],
   "source": [
    "df1.info()"
   ]
  },
  {
   "cell_type": "code",
   "execution_count": 64,
   "metadata": {
    "collapsed": false
   },
   "outputs": [
    {
     "data": {
      "text/html": [
       "<div>\n",
       "<table border=\"1\" class=\"dataframe\">\n",
       "  <thead>\n",
       "    <tr style=\"text-align: right;\">\n",
       "      <th></th>\n",
       "      <th>Sr_No</th>\n",
       "      <th>Location</th>\n",
       "      <th>Hospital_Name</th>\n",
       "      <th>Address_Original_First_Line</th>\n",
       "      <th>State</th>\n",
       "      <th>District</th>\n",
       "      <th>Pincode</th>\n",
       "      <th>Contact Number</th>\n",
       "      <th>Total_Num_Beds</th>\n",
       "      <th>Remarks</th>\n",
       "    </tr>\n",
       "  </thead>\n",
       "  <tbody>\n",
       "    <tr>\n",
       "      <th>0</th>\n",
       "      <td>201</td>\n",
       "      <td>Vimal Hospital,Near Govt Boys High School,Barnala</td>\n",
       "      <td>Dr Parmod Jain Hospital</td>\n",
       "      <td>K C Road</td>\n",
       "      <td>Punjab</td>\n",
       "      <td>Barnala</td>\n",
       "      <td>148101</td>\n",
       "      <td>(1679) 232592</td>\n",
       "      <td>0</td>\n",
       "      <td>nr</td>\n",
       "    </tr>\n",
       "    <tr>\n",
       "      <th>1</th>\n",
       "      <td>202</td>\n",
       "      <td>K C Road Barnala</td>\n",
       "      <td>Dr Pradeep Sharma Hospital</td>\n",
       "      <td>Neal Gazal Hotel, Old Sabzi Mandi, K.C Road</td>\n",
       "      <td>Punjab</td>\n",
       "      <td>Barnala</td>\n",
       "      <td>148101</td>\n",
       "      <td>01679 - 2326445</td>\n",
       "      <td>0</td>\n",
       "      <td>nb</td>\n",
       "    </tr>\n",
       "    <tr>\n",
       "      <th>2</th>\n",
       "      <td>203</td>\n",
       "      <td>Neal Gazal Hotel, Old Sabzi Mandi, K.C Road Ba...</td>\n",
       "      <td>Dr Rakesh Surgical Center</td>\n",
       "      <td>Kacha College</td>\n",
       "      <td>Punjab</td>\n",
       "      <td>Barnala</td>\n",
       "      <td>148101</td>\n",
       "      <td>0167 924 3933</td>\n",
       "      <td>0</td>\n",
       "      <td>nb</td>\n",
       "    </tr>\n",
       "    <tr>\n",
       "      <th>3</th>\n",
       "      <td>204</td>\n",
       "      <td>Kacha College, Barnala</td>\n",
       "      <td>Dr. Naresh Hospital and Heart Centre</td>\n",
       "      <td>Sangrur Road, Dhanuala</td>\n",
       "      <td>Punjab</td>\n",
       "      <td>Barnala</td>\n",
       "      <td>148101</td>\n",
       "      <td>098140 55985</td>\n",
       "      <td>0</td>\n",
       "      <td>cnr</td>\n",
       "    </tr>\n",
       "    <tr>\n",
       "      <th>4</th>\n",
       "      <td>205</td>\n",
       "      <td>Sangrur Road, Dhanuala, Barnala</td>\n",
       "      <td>G M S Multispeciality Hospital</td>\n",
       "      <td>K. C. Road, Near Obc Bank</td>\n",
       "      <td>Punjab</td>\n",
       "      <td>Barnala</td>\n",
       "      <td>148101</td>\n",
       "      <td>UTL</td>\n",
       "      <td>0</td>\n",
       "      <td>NaN</td>\n",
       "    </tr>\n",
       "  </tbody>\n",
       "</table>\n",
       "</div>"
      ],
      "text/plain": [
       "   Sr_No                                           Location  \\\n",
       "0    201  Vimal Hospital,Near Govt Boys High School,Barnala   \n",
       "1    202                                   K C Road Barnala   \n",
       "2    203  Neal Gazal Hotel, Old Sabzi Mandi, K.C Road Ba...   \n",
       "3    204                             Kacha College, Barnala   \n",
       "4    205                    Sangrur Road, Dhanuala, Barnala   \n",
       "\n",
       "                          Hospital_Name  \\\n",
       "0               Dr Parmod Jain Hospital   \n",
       "1            Dr Pradeep Sharma Hospital   \n",
       "2             Dr Rakesh Surgical Center   \n",
       "3  Dr. Naresh Hospital and Heart Centre   \n",
       "4        G M S Multispeciality Hospital   \n",
       "\n",
       "                   Address_Original_First_Line   State District  Pincode  \\\n",
       "0                                     K C Road  Punjab  Barnala   148101   \n",
       "1  Neal Gazal Hotel, Old Sabzi Mandi, K.C Road  Punjab  Barnala   148101   \n",
       "2                                Kacha College  Punjab  Barnala   148101   \n",
       "3                       Sangrur Road, Dhanuala  Punjab  Barnala   148101   \n",
       "4                    K. C. Road, Near Obc Bank  Punjab  Barnala   148101   \n",
       "\n",
       "    Contact Number  Total_Num_Beds Remarks  \n",
       "0    (1679) 232592               0      nr  \n",
       "1  01679 - 2326445               0      nb  \n",
       "2    0167 924 3933               0      nb  \n",
       "3     098140 55985               0     cnr  \n",
       "4              UTL               0     NaN  "
      ]
     },
     "execution_count": 64,
     "metadata": {},
     "output_type": "execute_result"
    }
   ],
   "source": [
    "df1.head()"
   ]
  },
  {
   "cell_type": "code",
   "execution_count": 65,
   "metadata": {
    "collapsed": false
   },
   "outputs": [
    {
     "data": {
      "text/html": [
       "<div>\n",
       "<table border=\"1\" class=\"dataframe\">\n",
       "  <thead>\n",
       "    <tr style=\"text-align: right;\">\n",
       "      <th></th>\n",
       "      <th>Sr_No</th>\n",
       "      <th>Pincode</th>\n",
       "      <th>Total_Num_Beds</th>\n",
       "    </tr>\n",
       "  </thead>\n",
       "  <tbody>\n",
       "    <tr>\n",
       "      <th>count</th>\n",
       "      <td>199.000000</td>\n",
       "      <td>199.000000</td>\n",
       "      <td>199.000000</td>\n",
       "    </tr>\n",
       "    <tr>\n",
       "      <th>mean</th>\n",
       "      <td>300.000000</td>\n",
       "      <td>148888.472362</td>\n",
       "      <td>4.306533</td>\n",
       "    </tr>\n",
       "    <tr>\n",
       "      <th>std</th>\n",
       "      <td>57.590508</td>\n",
       "      <td>2879.777334</td>\n",
       "      <td>15.641550</td>\n",
       "    </tr>\n",
       "    <tr>\n",
       "      <th>min</th>\n",
       "      <td>201.000000</td>\n",
       "      <td>140406.000000</td>\n",
       "      <td>0.000000</td>\n",
       "    </tr>\n",
       "    <tr>\n",
       "      <th>25%</th>\n",
       "      <td>250.500000</td>\n",
       "      <td>147001.000000</td>\n",
       "      <td>0.000000</td>\n",
       "    </tr>\n",
       "    <tr>\n",
       "      <th>50%</th>\n",
       "      <td>300.000000</td>\n",
       "      <td>151001.000000</td>\n",
       "      <td>0.000000</td>\n",
       "    </tr>\n",
       "    <tr>\n",
       "      <th>75%</th>\n",
       "      <td>349.500000</td>\n",
       "      <td>151001.000000</td>\n",
       "      <td>0.000000</td>\n",
       "    </tr>\n",
       "    <tr>\n",
       "      <th>max</th>\n",
       "      <td>399.000000</td>\n",
       "      <td>151509.000000</td>\n",
       "      <td>150.000000</td>\n",
       "    </tr>\n",
       "  </tbody>\n",
       "</table>\n",
       "</div>"
      ],
      "text/plain": [
       "            Sr_No        Pincode  Total_Num_Beds\n",
       "count  199.000000     199.000000      199.000000\n",
       "mean   300.000000  148888.472362        4.306533\n",
       "std     57.590508    2879.777334       15.641550\n",
       "min    201.000000  140406.000000        0.000000\n",
       "25%    250.500000  147001.000000        0.000000\n",
       "50%    300.000000  151001.000000        0.000000\n",
       "75%    349.500000  151001.000000        0.000000\n",
       "max    399.000000  151509.000000      150.000000"
      ]
     },
     "execution_count": 65,
     "metadata": {},
     "output_type": "execute_result"
    }
   ],
   "source": [
    "df1.describe()"
   ]
  },
  {
   "cell_type": "markdown",
   "metadata": {},
   "source": [
    "The data for the total number of beds looks ambiguous, hence digging deeper"
   ]
  },
  {
   "cell_type": "code",
   "execution_count": 66,
   "metadata": {
    "collapsed": false
   },
   "outputs": [
    {
     "data": {
      "text/plain": [
       "array([  0,  14,  12,  15,  20,  25, 150,  35,  50,  10,  28,  80,  87])"
      ]
     },
     "execution_count": 66,
     "metadata": {},
     "output_type": "execute_result"
    }
   ],
   "source": [
    "df1['Total_Num_Beds'].unique()"
   ]
  },
  {
   "cell_type": "markdown",
   "metadata": {},
   "source": [
    "There can be some useful information in the above feature hence leaving it as it is."
   ]
  },
  {
   "cell_type": "markdown",
   "metadata": {},
   "source": [
    "The only differeniable information from the above database is the district wise distribution of the hospitals in Punjab."
   ]
  },
  {
   "cell_type": "code",
   "execution_count": 67,
   "metadata": {
    "collapsed": false
   },
   "outputs": [
    {
     "data": {
      "text/plain": [
       "<matplotlib.axes._subplots.AxesSubplot at 0x7f0db22ab9b0>"
      ]
     },
     "execution_count": 67,
     "metadata": {},
     "output_type": "execute_result"
    },
    {
     "data": {
      "image/png": "[encoded data removed]",
      "text/plain": [
       "<matplotlib.figure.Figure at 0x7f0db24761d0>"
      ]
     },
     "metadata": {},
     "output_type": "display_data"
    }
   ],
   "source": [
    "df1.groupby(['District'])['Sr_No'].count().plot(kind='bar')"
   ]
  },
  {
   "cell_type": "code",
   "execution_count": null,
   "metadata": {
    "collapsed": true
   },
   "outputs": [],
   "source": []
  }
 ],
 "metadata": {
  "anaconda-cloud": {},
  "kernelspec": {
   "display_name": "Python [default]",
   "language": "python",
   "name": "python3"
  },
  "language_info": {
   "codemirror_mode": {
    "name": "ipython",
    "version": 3
   },
   "file_extension": ".py",
   "mimetype": "text/x-python",
   "name": "python",
   "nbconvert_exporter": "python",
   "pygments_lexer": "ipython3",
   "version": "3.5.2"
  }
 },
 "nbformat": 4,
 "nbformat_minor": 1
}
