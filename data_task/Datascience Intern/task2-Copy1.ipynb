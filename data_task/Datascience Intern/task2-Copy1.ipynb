{
 "cells": [
  {
   "cell_type": "code",
   "execution_count": 1,
   "metadata": {
    "collapsed": true
   },
   "outputs": [],
   "source": [
    "import numpy as np\n",
    "import pandas as pd\n",
    "import matplotlib.pyplot as plt\n",
    "%matplotlib inline\n",
    "import seaborn as sns"
   ]
  },
  {
   "cell_type": "code",
   "execution_count": 2,
   "metadata": {
    "collapsed": true
   },
   "outputs": [],
   "source": [
    "df1 = pd.read_excel('Data_research_22_02_2018 (1)(1).xlsx', sheetname='Sheet1')"
   ]
  },
  {
   "cell_type": "code",
   "execution_count": 3,
   "metadata": {
    "collapsed": false
   },
   "outputs": [
    {
     "data": {
      "text/html": [
       "<div>\n",
       "<table border=\"1\" class=\"dataframe\">\n",
       "  <thead>\n",
       "    <tr style=\"text-align: right;\">\n",
       "      <th></th>\n",
       "      <th>Index</th>\n",
       "      <th>Company Name</th>\n",
       "      <th>Industry</th>\n",
       "      <th>Sub Industry</th>\n",
       "      <th>Company Type</th>\n",
       "      <th>Level Of Office</th>\n",
       "      <th>Location</th>\n",
       "      <th>Phone Number</th>\n",
       "      <th>Website</th>\n",
       "    </tr>\n",
       "  </thead>\n",
       "  <tbody>\n",
       "    <tr>\n",
       "      <th>Swati</th>\n",
       "      <td>1</td>\n",
       "      <td>3M India Ltd</td>\n",
       "      <td>Electrical , Electronics, Food , FMCG , Agricu...</td>\n",
       "      <td>FMCG, Equipments , Machines , Surgical Product...</td>\n",
       "      <td>India's Top 500</td>\n",
       "      <td>Head Office</td>\n",
       "      <td>Bangalore / Bengaluru / Karnataka \\n\\t- 560001</td>\n",
       "      <td>(080) 66595759</td>\n",
       "      <td>\\n www.3m.com  \\n</td>\n",
       "    </tr>\n",
       "    <tr>\n",
       "      <th>Swati</th>\n",
       "      <td>2</td>\n",
       "      <td>ABB India Ltd</td>\n",
       "      <td>Electrical , Electronics</td>\n",
       "      <td>Electrical , Electronics</td>\n",
       "      <td>India's Top 500</td>\n",
       "      <td>Head Office</td>\n",
       "      <td>Bangalore / Bengaluru / Karnataka \\n\\t- 560055</td>\n",
       "      <td>(080) 22949154</td>\n",
       "      <td>\\n new.abb.com  \\n</td>\n",
       "    </tr>\n",
       "    <tr>\n",
       "      <th>Swati</th>\n",
       "      <td>3</td>\n",
       "      <td>BEML Ltd</td>\n",
       "      <td>Capital Goods , Machines</td>\n",
       "      <td>NaN</td>\n",
       "      <td>India's Top 500</td>\n",
       "      <td>Head Office</td>\n",
       "      <td>Bangalore / Bengaluru / Karnataka \\n\\t- 560027</td>\n",
       "      <td>(080) 22963240  22963250</td>\n",
       "      <td>\\n www.bemlindia.com  \\n</td>\n",
       "    </tr>\n",
       "    <tr>\n",
       "      <th>Swati</th>\n",
       "      <td>4</td>\n",
       "      <td>NaN</td>\n",
       "      <td>NaN</td>\n",
       "      <td>NaN</td>\n",
       "      <td>NaN</td>\n",
       "      <td>NaN</td>\n",
       "      <td>NaN</td>\n",
       "      <td>NaN</td>\n",
       "      <td>NaN</td>\n",
       "    </tr>\n",
       "    <tr>\n",
       "      <th>Swati</th>\n",
       "      <td>5</td>\n",
       "      <td>Bharat Electronics Ltd</td>\n",
       "      <td>Electrical , Electronics</td>\n",
       "      <td>Electrical , Electronics</td>\n",
       "      <td>India's Top 500</td>\n",
       "      <td>Head Office</td>\n",
       "      <td>Bangalore / Bengaluru / Karnataka \\n\\t- 560013</td>\n",
       "      <td>(080) 25039300  25039266</td>\n",
       "      <td>\\n www.bel-india.com  \\n</td>\n",
       "    </tr>\n",
       "  </tbody>\n",
       "</table>\n",
       "</div>"
      ],
      "text/plain": [
       "       Index             Company Name  \\\n",
       "Swati      1            3M India Ltd    \n",
       "Swati      2           ABB India Ltd    \n",
       "Swati      3                BEML Ltd    \n",
       "Swati      4                      NaN   \n",
       "Swati      5  Bharat Electronics Ltd    \n",
       "\n",
       "                                                Industry  \\\n",
       "Swati  Electrical , Electronics, Food , FMCG , Agricu...   \n",
       "Swati                           Electrical , Electronics   \n",
       "Swati                           Capital Goods , Machines   \n",
       "Swati                                                NaN   \n",
       "Swati                           Electrical , Electronics   \n",
       "\n",
       "                                            Sub Industry     Company Type  \\\n",
       "Swati  FMCG, Equipments , Machines , Surgical Product...  India's Top 500   \n",
       "Swati                           Electrical , Electronics  India's Top 500   \n",
       "Swati                                                NaN  India's Top 500   \n",
       "Swati                                                NaN              NaN   \n",
       "Swati                           Electrical , Electronics  India's Top 500   \n",
       "\n",
       "      Level Of Office                                        Location  \\\n",
       "Swati     Head Office  Bangalore / Bengaluru / Karnataka \\n\\t- 560001   \n",
       "Swati     Head Office  Bangalore / Bengaluru / Karnataka \\n\\t- 560055   \n",
       "Swati     Head Office  Bangalore / Bengaluru / Karnataka \\n\\t- 560027   \n",
       "Swati             NaN                                             NaN   \n",
       "Swati     Head Office  Bangalore / Bengaluru / Karnataka \\n\\t- 560013   \n",
       "\n",
       "                    Phone Number                   Website  \n",
       "Swati             (080) 66595759         \\n www.3m.com  \\n  \n",
       "Swati             (080) 22949154        \\n new.abb.com  \\n  \n",
       "Swati   (080) 22963240  22963250  \\n www.bemlindia.com  \\n  \n",
       "Swati                        NaN                       NaN  \n",
       "Swati   (080) 25039300  25039266  \\n www.bel-india.com  \\n  "
      ]
     },
     "execution_count": 3,
     "metadata": {},
     "output_type": "execute_result"
    }
   ],
   "source": [
    "df1.head()"
   ]
  },
  {
   "cell_type": "code",
   "execution_count": 4,
   "metadata": {
    "collapsed": false
   },
   "outputs": [
    {
     "data": {
      "text/html": [
       "<div>\n",
       "<table border=\"1\" class=\"dataframe\">\n",
       "  <thead>\n",
       "    <tr style=\"text-align: right;\">\n",
       "      <th></th>\n",
       "      <th>Index</th>\n",
       "    </tr>\n",
       "  </thead>\n",
       "  <tbody>\n",
       "    <tr>\n",
       "      <th>count</th>\n",
       "      <td>149.000000</td>\n",
       "    </tr>\n",
       "    <tr>\n",
       "      <th>mean</th>\n",
       "      <td>75.000000</td>\n",
       "    </tr>\n",
       "    <tr>\n",
       "      <th>std</th>\n",
       "      <td>43.156691</td>\n",
       "    </tr>\n",
       "    <tr>\n",
       "      <th>min</th>\n",
       "      <td>1.000000</td>\n",
       "    </tr>\n",
       "    <tr>\n",
       "      <th>25%</th>\n",
       "      <td>38.000000</td>\n",
       "    </tr>\n",
       "    <tr>\n",
       "      <th>50%</th>\n",
       "      <td>75.000000</td>\n",
       "    </tr>\n",
       "    <tr>\n",
       "      <th>75%</th>\n",
       "      <td>112.000000</td>\n",
       "    </tr>\n",
       "    <tr>\n",
       "      <th>max</th>\n",
       "      <td>149.000000</td>\n",
       "    </tr>\n",
       "  </tbody>\n",
       "</table>\n",
       "</div>"
      ],
      "text/plain": [
       "            Index\n",
       "count  149.000000\n",
       "mean    75.000000\n",
       "std     43.156691\n",
       "min      1.000000\n",
       "25%     38.000000\n",
       "50%     75.000000\n",
       "75%    112.000000\n",
       "max    149.000000"
      ]
     },
     "execution_count": 4,
     "metadata": {},
     "output_type": "execute_result"
    }
   ],
   "source": [
    "df1.describe()"
   ]
  },
  {
   "cell_type": "code",
   "execution_count": 5,
   "metadata": {
    "collapsed": false
   },
   "outputs": [
    {
     "name": "stdout",
     "output_type": "stream",
     "text": [
      "<class 'pandas.core.frame.DataFrame'>\n",
      "Index: 149 entries, Swati to Laksh\n",
      "Data columns (total 9 columns):\n",
      "Index              149 non-null int64\n",
      "Company Name       142 non-null object\n",
      "Industry           142 non-null object\n",
      "Sub Industry       138 non-null object\n",
      "Company Type       142 non-null object\n",
      "Level Of Office    142 non-null object\n",
      "Location           142 non-null object\n",
      "Phone Number       138 non-null object\n",
      "Website            138 non-null object\n",
      "dtypes: int64(1), object(8)\n",
      "memory usage: 11.6+ KB\n"
     ]
    }
   ],
   "source": [
    "df1.info()"
   ]
  },
  {
   "cell_type": "code",
   "execution_count": 6,
   "metadata": {
    "collapsed": false
   },
   "outputs": [
    {
     "data": {
      "text/plain": [
       "array([\"India's Top 500\", nan, \"India's 501-1000\", 'MNC'], dtype=object)"
      ]
     },
     "execution_count": 6,
     "metadata": {},
     "output_type": "execute_result"
    }
   ],
   "source": [
    "df1['Company Type'].unique()"
   ]
  },
  {
   "cell_type": "code",
   "execution_count": 7,
   "metadata": {
    "collapsed": false
   },
   "outputs": [
    {
     "data": {
      "text/html": [
       "<div>\n",
       "<table border=\"1\" class=\"dataframe\">\n",
       "  <thead>\n",
       "    <tr style=\"text-align: right;\">\n",
       "      <th></th>\n",
       "      <th></th>\n",
       "      <th>Index</th>\n",
       "    </tr>\n",
       "    <tr>\n",
       "      <th>Company Type</th>\n",
       "      <th></th>\n",
       "      <th></th>\n",
       "    </tr>\n",
       "  </thead>\n",
       "  <tbody>\n",
       "    <tr>\n",
       "      <th rowspan=\"8\" valign=\"top\">India's 501-1000</th>\n",
       "      <th>count</th>\n",
       "      <td>32.000000</td>\n",
       "    </tr>\n",
       "    <tr>\n",
       "      <th>mean</th>\n",
       "      <td>49.093750</td>\n",
       "    </tr>\n",
       "    <tr>\n",
       "      <th>std</th>\n",
       "      <td>9.809013</td>\n",
       "    </tr>\n",
       "    <tr>\n",
       "      <th>min</th>\n",
       "      <td>33.000000</td>\n",
       "    </tr>\n",
       "    <tr>\n",
       "      <th>25%</th>\n",
       "      <td>40.750000</td>\n",
       "    </tr>\n",
       "    <tr>\n",
       "      <th>50%</th>\n",
       "      <td>49.500000</td>\n",
       "    </tr>\n",
       "    <tr>\n",
       "      <th>75%</th>\n",
       "      <td>57.250000</td>\n",
       "    </tr>\n",
       "    <tr>\n",
       "      <th>max</th>\n",
       "      <td>65.000000</td>\n",
       "    </tr>\n",
       "    <tr>\n",
       "      <th rowspan=\"8\" valign=\"top\">India's Top 500</th>\n",
       "      <th>count</th>\n",
       "      <td>30.000000</td>\n",
       "    </tr>\n",
       "    <tr>\n",
       "      <th>mean</th>\n",
       "      <td>16.633333</td>\n",
       "    </tr>\n",
       "    <tr>\n",
       "      <th>std</th>\n",
       "      <td>9.282848</td>\n",
       "    </tr>\n",
       "    <tr>\n",
       "      <th>min</th>\n",
       "      <td>1.000000</td>\n",
       "    </tr>\n",
       "    <tr>\n",
       "      <th>25%</th>\n",
       "      <td>9.250000</td>\n",
       "    </tr>\n",
       "    <tr>\n",
       "      <th>50%</th>\n",
       "      <td>16.500000</td>\n",
       "    </tr>\n",
       "    <tr>\n",
       "      <th>75%</th>\n",
       "      <td>23.750000</td>\n",
       "    </tr>\n",
       "    <tr>\n",
       "      <th>max</th>\n",
       "      <td>32.000000</td>\n",
       "    </tr>\n",
       "    <tr>\n",
       "      <th rowspan=\"8\" valign=\"top\">MNC</th>\n",
       "      <th>count</th>\n",
       "      <td>80.000000</td>\n",
       "    </tr>\n",
       "    <tr>\n",
       "      <th>mean</th>\n",
       "      <td>107.950000</td>\n",
       "    </tr>\n",
       "    <tr>\n",
       "      <th>std</th>\n",
       "      <td>24.349720</td>\n",
       "    </tr>\n",
       "    <tr>\n",
       "      <th>min</th>\n",
       "      <td>66.000000</td>\n",
       "    </tr>\n",
       "    <tr>\n",
       "      <th>25%</th>\n",
       "      <td>86.750000</td>\n",
       "    </tr>\n",
       "    <tr>\n",
       "      <th>50%</th>\n",
       "      <td>107.500000</td>\n",
       "    </tr>\n",
       "    <tr>\n",
       "      <th>75%</th>\n",
       "      <td>128.250000</td>\n",
       "    </tr>\n",
       "    <tr>\n",
       "      <th>max</th>\n",
       "      <td>149.000000</td>\n",
       "    </tr>\n",
       "  </tbody>\n",
       "</table>\n",
       "</div>"
      ],
      "text/plain": [
       "                             Index\n",
       "Company Type                      \n",
       "India's 501-1000 count   32.000000\n",
       "                 mean    49.093750\n",
       "                 std      9.809013\n",
       "                 min     33.000000\n",
       "                 25%     40.750000\n",
       "                 50%     49.500000\n",
       "                 75%     57.250000\n",
       "                 max     65.000000\n",
       "India's Top 500  count   30.000000\n",
       "                 mean    16.633333\n",
       "                 std      9.282848\n",
       "                 min      1.000000\n",
       "                 25%      9.250000\n",
       "                 50%     16.500000\n",
       "                 75%     23.750000\n",
       "                 max     32.000000\n",
       "MNC              count   80.000000\n",
       "                 mean   107.950000\n",
       "                 std     24.349720\n",
       "                 min     66.000000\n",
       "                 25%     86.750000\n",
       "                 50%    107.500000\n",
       "                 75%    128.250000\n",
       "                 max    149.000000"
      ]
     },
     "execution_count": 7,
     "metadata": {},
     "output_type": "execute_result"
    }
   ],
   "source": [
    "df1.groupby(['Company Type']).describe()"
   ]
  },
  {
   "cell_type": "code",
   "execution_count": null,
   "metadata": {
    "collapsed": true
   },
   "outputs": [],
   "source": []
  }
 ],
 "metadata": {
  "anaconda-cloud": {},
  "kernelspec": {
   "display_name": "Python [default]",
   "language": "python",
   "name": "python3"
  },
  "language_info": {
   "codemirror_mode": {
    "name": "ipython",
    "version": 3
   },
   "file_extension": ".py",
   "mimetype": "text/x-python",
   "name": "python",
   "nbconvert_exporter": "python",
   "pygments_lexer": "ipython3",
   "version": "3.5.2"
  }
 },
 "nbformat": 4,
 "nbformat_minor": 1
}
